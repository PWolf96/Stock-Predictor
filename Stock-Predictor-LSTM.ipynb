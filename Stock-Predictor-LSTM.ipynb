{
 "cells": [
  {
   "cell_type": "markdown",
   "metadata": {},
   "source": [
    "# Stock-Predictor using LSTM"
   ]
  },
  {
   "cell_type": "markdown",
   "metadata": {},
   "source": [
    "### Import libraries"
   ]
  },
  {
   "cell_type": "code",
   "execution_count": 1,
   "metadata": {},
   "outputs": [],
   "source": [
    "import datetime as dt\n",
    "from finta import TA\n",
    "\n",
    "import pandas as pd\n",
    "from pandas_datareader import data as web\n",
    "import numpy as np\n",
    "\n",
    "import matplotlib.pyplot as plt\n",
    "import seaborn as sns\n",
    "\n",
    "from sklearn import preprocessing\n",
    "from sklearn.metrics import mean_squared_error\n",
    "from numpy import size\n",
    "from sklearn.model_selection import train_test_split\n",
    "from sklearn.preprocessing import MinMaxScaler\n",
    "scaler = MinMaxScaler(feature_range=(0, 1))\n",
    "\n",
    "import tensorflow as tf\n",
    "\n",
    "import keras\n",
    "from keras.models import Sequential\n",
    "from keras.models import Model\n",
    "from keras.layers import Dense, Dropout, LSTM, Input, Activation, concatenate\n",
    "from keras import optimizers\n",
    "from keras.callbacks import History \n",
    "\n",
    "np.warnings.filterwarnings('ignore')"
   ]
  },
  {
   "cell_type": "markdown",
   "metadata": {},
   "source": [
    "### Load data and pre-processing"
   ]
  },
  {
   "cell_type": "code",
   "execution_count": 2,
   "metadata": {},
   "outputs": [
    {
     "data": {
      "text/html": [
       "<div>\n",
       "<style scoped>\n",
       "    .dataframe tbody tr th:only-of-type {\n",
       "        vertical-align: middle;\n",
       "    }\n",
       "\n",
       "    .dataframe tbody tr th {\n",
       "        vertical-align: top;\n",
       "    }\n",
       "\n",
       "    .dataframe thead th {\n",
       "        text-align: right;\n",
       "    }\n",
       "</style>\n",
       "<table border=\"1\" class=\"dataframe\">\n",
       "  <thead>\n",
       "    <tr style=\"text-align: right;\">\n",
       "      <th></th>\n",
       "      <th>High</th>\n",
       "      <th>Low</th>\n",
       "      <th>Open</th>\n",
       "      <th>Close</th>\n",
       "      <th>Volume</th>\n",
       "      <th>Adj Close</th>\n",
       "    </tr>\n",
       "    <tr>\n",
       "      <th>Date</th>\n",
       "      <th></th>\n",
       "      <th></th>\n",
       "      <th></th>\n",
       "      <th></th>\n",
       "      <th></th>\n",
       "      <th></th>\n",
       "    </tr>\n",
       "  </thead>\n",
       "  <tbody>\n",
       "    <tr>\n",
       "      <th>2022-09-27</th>\n",
       "      <td>100.459999</td>\n",
       "      <td>97.339996</td>\n",
       "      <td>99.910004</td>\n",
       "      <td>98.089996</td>\n",
       "      <td>24225000.0</td>\n",
       "      <td>98.089996</td>\n",
       "    </tr>\n",
       "    <tr>\n",
       "      <th>2022-09-28</th>\n",
       "      <td>101.400002</td>\n",
       "      <td>97.800003</td>\n",
       "      <td>98.019997</td>\n",
       "      <td>100.739998</td>\n",
       "      <td>24617000.0</td>\n",
       "      <td>100.739998</td>\n",
       "    </tr>\n",
       "    <tr>\n",
       "      <th>2022-09-29</th>\n",
       "      <td>99.300003</td>\n",
       "      <td>96.519997</td>\n",
       "      <td>99.300003</td>\n",
       "      <td>98.089996</td>\n",
       "      <td>21921500.0</td>\n",
       "      <td>98.089996</td>\n",
       "    </tr>\n",
       "    <tr>\n",
       "      <th>2022-09-30</th>\n",
       "      <td>99.494003</td>\n",
       "      <td>96.029999</td>\n",
       "      <td>97.730003</td>\n",
       "      <td>96.150002</td>\n",
       "      <td>26248200.0</td>\n",
       "      <td>96.150002</td>\n",
       "    </tr>\n",
       "  </tbody>\n",
       "</table>\n",
       "</div>"
      ],
      "text/plain": [
       "                  High        Low       Open       Close      Volume  \\\n",
       "Date                                                                   \n",
       "2022-09-27  100.459999  97.339996  99.910004   98.089996  24225000.0   \n",
       "2022-09-28  101.400002  97.800003  98.019997  100.739998  24617000.0   \n",
       "2022-09-29   99.300003  96.519997  99.300003   98.089996  21921500.0   \n",
       "2022-09-30   99.494003  96.029999  97.730003   96.150002  26248200.0   \n",
       "\n",
       "             Adj Close  \n",
       "Date                    \n",
       "2022-09-27   98.089996  \n",
       "2022-09-28  100.739998  \n",
       "2022-09-29   98.089996  \n",
       "2022-09-30   96.150002  "
      ]
     },
     "execution_count": 2,
     "metadata": {},
     "output_type": "execute_result"
    }
   ],
   "source": [
    "def get_stock_data(symbol, start_date, end_date):\n",
    "    '''\n",
    "    download stock data over from yahoo api form start date to end date\n",
    "    input\n",
    "        stock - String representing stock symbol eg APPL\n",
    "        start - datetime object represent start date; default Jan 1, 2010\n",
    "        end - datetime object represent end date; default: Jan 1, 2020\n",
    "    output\n",
    "        historical stock data pulled from yahoo finance stock api from start to end dates\n",
    "    '''\n",
    "    stockData = web.DataReader(symbol, 'yahoo', start_date, end_date)\n",
    "    \n",
    "    return stockData\n",
    "\n",
    "start_date = dt.datetime(2004, 10, 1)\n",
    "end_date = dt.datetime(2022, 10, 1)\n",
    "df_GOOG = get_stock_data('GOOG',start_date, end_date)\n",
    "df_GOOG.tail(4)"
   ]
  },
  {
   "cell_type": "code",
   "execution_count": 3,
   "metadata": {},
   "outputs": [],
   "source": [
    "#Renaming columns\n",
    "df_GOOG.rename(columns = {'High':'high', 'Low': 'low', 'Open':'open','Volume':'volume', 'Adj Close':'adj_close'}, inplace = True)"
   ]
  },
  {
   "cell_type": "markdown",
   "metadata": {},
   "source": [
    "### Adding features"
   ]
  },
  {
   "cell_type": "markdown",
   "metadata": {},
   "source": [
    "Additional features were added in order to increase the accuracy of the prediction. The features are in the form of technical indicators used to measure the performance of the stock in various ways. There are different types of technical indicators, namely: **trend, momentum, volatility and volume**. \n",
    "\n",
    "For best results, it is advised to use a mixture of techincal indicators. Otherwise, using many indicators of the same type will result in **multicollinearity**, overblowing the results\n",
    "\n",
    "In this analysis the following techincal indicators were chosen:\n",
    "\n",
    "Relative Strength Index (RSI) - Used as a momentum indicator commonly used to determine the strength of price changes in market. \n",
    "\n",
    "On Balance Volume - Used as a volume indicator, calculating the buying and selling pressures of a stock\n",
    "\n",
    "Bollinger Bands -  Used as a volatility and trend indicator, plots three trend lines, determining whether a stock is overbought or oversold."
   ]
  },
  {
   "cell_type": "code",
   "execution_count": 4,
   "metadata": {},
   "outputs": [
    {
     "data": {
      "text/html": [
       "<div>\n",
       "<style scoped>\n",
       "    .dataframe tbody tr th:only-of-type {\n",
       "        vertical-align: middle;\n",
       "    }\n",
       "\n",
       "    .dataframe tbody tr th {\n",
       "        vertical-align: top;\n",
       "    }\n",
       "\n",
       "    .dataframe thead th {\n",
       "        text-align: right;\n",
       "    }\n",
       "</style>\n",
       "<table border=\"1\" class=\"dataframe\">\n",
       "  <thead>\n",
       "    <tr style=\"text-align: right;\">\n",
       "      <th></th>\n",
       "      <th>high</th>\n",
       "      <th>low</th>\n",
       "      <th>open</th>\n",
       "      <th>Close</th>\n",
       "      <th>volume</th>\n",
       "      <th>adj_close</th>\n",
       "      <th>OBV</th>\n",
       "      <th>14 period RSI</th>\n",
       "      <th>BB_UPPER</th>\n",
       "      <th>BB_MIDDLE</th>\n",
       "      <th>BB_LOWER</th>\n",
       "    </tr>\n",
       "  </thead>\n",
       "  <tbody>\n",
       "    <tr>\n",
       "      <th>count</th>\n",
       "      <td>4511.000000</td>\n",
       "      <td>4511.000000</td>\n",
       "      <td>4511.000000</td>\n",
       "      <td>4511.000000</td>\n",
       "      <td>4.511000e+03</td>\n",
       "      <td>4511.000000</td>\n",
       "      <td>4.511000e+03</td>\n",
       "      <td>4511.000000</td>\n",
       "      <td>4511.000000</td>\n",
       "      <td>4511.000000</td>\n",
       "      <td>4511.000000</td>\n",
       "    </tr>\n",
       "    <tr>\n",
       "      <th>mean</th>\n",
       "      <td>37.576318</td>\n",
       "      <td>36.823572</td>\n",
       "      <td>37.200643</td>\n",
       "      <td>37.205834</td>\n",
       "      <td>1.227037e+08</td>\n",
       "      <td>37.205834</td>\n",
       "      <td>2.016020e+10</td>\n",
       "      <td>54.217064</td>\n",
       "      <td>39.072900</td>\n",
       "      <td>36.990104</td>\n",
       "      <td>34.907309</td>\n",
       "    </tr>\n",
       "    <tr>\n",
       "      <th>std</th>\n",
       "      <td>35.182853</td>\n",
       "      <td>34.445349</td>\n",
       "      <td>34.809058</td>\n",
       "      <td>34.815612</td>\n",
       "      <td>1.505469e+08</td>\n",
       "      <td>34.815612</td>\n",
       "      <td>3.846793e+09</td>\n",
       "      <td>12.633815</td>\n",
       "      <td>36.664160</td>\n",
       "      <td>34.684090</td>\n",
       "      <td>32.755789</td>\n",
       "    </tr>\n",
       "    <tr>\n",
       "      <th>min</th>\n",
       "      <td>4.221676</td>\n",
       "      <td>4.017691</td>\n",
       "      <td>4.096396</td>\n",
       "      <td>4.112087</td>\n",
       "      <td>1.584340e+05</td>\n",
       "      <td>4.112087</td>\n",
       "      <td>-8.102176e+08</td>\n",
       "      <td>21.330543</td>\n",
       "      <td>4.602334</td>\n",
       "      <td>3.816469</td>\n",
       "      <td>2.743964</td>\n",
       "    </tr>\n",
       "    <tr>\n",
       "      <th>25%</th>\n",
       "      <td>12.826547</td>\n",
       "      <td>12.538752</td>\n",
       "      <td>12.695290</td>\n",
       "      <td>12.676859</td>\n",
       "      <td>3.014000e+07</td>\n",
       "      <td>12.676859</td>\n",
       "      <td>1.919959e+10</td>\n",
       "      <td>44.767545</td>\n",
       "      <td>13.464443</td>\n",
       "      <td>12.686246</td>\n",
       "      <td>11.697362</td>\n",
       "    </tr>\n",
       "    <tr>\n",
       "      <th>50%</th>\n",
       "      <td>23.112617</td>\n",
       "      <td>22.821959</td>\n",
       "      <td>23.021212</td>\n",
       "      <td>22.988832</td>\n",
       "      <td>6.859214e+07</td>\n",
       "      <td>22.988832</td>\n",
       "      <td>2.112246e+10</td>\n",
       "      <td>53.936424</td>\n",
       "      <td>23.350873</td>\n",
       "      <td>22.487651</td>\n",
       "      <td>21.638335</td>\n",
       "    </tr>\n",
       "    <tr>\n",
       "      <th>75%</th>\n",
       "      <td>53.558750</td>\n",
       "      <td>52.362125</td>\n",
       "      <td>52.915998</td>\n",
       "      <td>53.011000</td>\n",
       "      <td>1.530796e+08</td>\n",
       "      <td>53.011000</td>\n",
       "      <td>2.180190e+10</td>\n",
       "      <td>63.436345</td>\n",
       "      <td>55.625090</td>\n",
       "      <td>52.866928</td>\n",
       "      <td>50.030339</td>\n",
       "    </tr>\n",
       "    <tr>\n",
       "      <th>max</th>\n",
       "      <td>152.100006</td>\n",
       "      <td>149.887497</td>\n",
       "      <td>151.863495</td>\n",
       "      <td>150.709000</td>\n",
       "      <td>1.650833e+09</td>\n",
       "      <td>150.709000</td>\n",
       "      <td>2.668921e+10</td>\n",
       "      <td>90.929456</td>\n",
       "      <td>154.074570</td>\n",
       "      <td>147.882762</td>\n",
       "      <td>144.401245</td>\n",
       "    </tr>\n",
       "  </tbody>\n",
       "</table>\n",
       "</div>"
      ],
      "text/plain": [
       "              high          low         open        Close        volume  \\\n",
       "count  4511.000000  4511.000000  4511.000000  4511.000000  4.511000e+03   \n",
       "mean     37.576318    36.823572    37.200643    37.205834  1.227037e+08   \n",
       "std      35.182853    34.445349    34.809058    34.815612  1.505469e+08   \n",
       "min       4.221676     4.017691     4.096396     4.112087  1.584340e+05   \n",
       "25%      12.826547    12.538752    12.695290    12.676859  3.014000e+07   \n",
       "50%      23.112617    22.821959    23.021212    22.988832  6.859214e+07   \n",
       "75%      53.558750    52.362125    52.915998    53.011000  1.530796e+08   \n",
       "max     152.100006   149.887497   151.863495   150.709000  1.650833e+09   \n",
       "\n",
       "         adj_close           OBV  14 period RSI     BB_UPPER    BB_MIDDLE  \\\n",
       "count  4511.000000  4.511000e+03    4511.000000  4511.000000  4511.000000   \n",
       "mean     37.205834  2.016020e+10      54.217064    39.072900    36.990104   \n",
       "std      34.815612  3.846793e+09      12.633815    36.664160    34.684090   \n",
       "min       4.112087 -8.102176e+08      21.330543     4.602334     3.816469   \n",
       "25%      12.676859  1.919959e+10      44.767545    13.464443    12.686246   \n",
       "50%      22.988832  2.112246e+10      53.936424    23.350873    22.487651   \n",
       "75%      53.011000  2.180190e+10      63.436345    55.625090    52.866928   \n",
       "max     150.709000  2.668921e+10      90.929456   154.074570   147.882762   \n",
       "\n",
       "          BB_LOWER  \n",
       "count  4511.000000  \n",
       "mean     34.907309  \n",
       "std      32.755789  \n",
       "min       2.743964  \n",
       "25%      11.697362  \n",
       "50%      21.638335  \n",
       "75%      50.030339  \n",
       "max     144.401245  "
      ]
     },
     "execution_count": 4,
     "metadata": {},
     "output_type": "execute_result"
    }
   ],
   "source": [
    "rsi = TA.RSI(df_GOOG)\n",
    "obv = TA.OBV(df_GOOG)\n",
    "bbands = TA.BBANDS(df_GOOG, 21)\n",
    "\n",
    "df_GOOG['OBV'] = obv.values\n",
    "df_GOOG = pd.concat([df_GOOG, rsi], axis = 1)\n",
    "df_GOOG = pd.concat([df_GOOG, bbands], axis = 1)\n",
    "df_GOOG = df_GOOG.dropna()\n",
    "df_GOOG.describe()"
   ]
  },
  {
   "cell_type": "code",
   "execution_count": 5,
   "metadata": {},
   "outputs": [],
   "source": [
    "#Removing Close column\n",
    "df_GOOG = df_GOOG.reset_index()\n",
    "df_GOOG = df_GOOG.drop(['Close','Date'], axis=1)"
   ]
  },
  {
   "cell_type": "code",
   "execution_count": 6,
   "metadata": {},
   "outputs": [
    {
     "data": {
      "text/html": [
       "<div>\n",
       "<style scoped>\n",
       "    .dataframe tbody tr th:only-of-type {\n",
       "        vertical-align: middle;\n",
       "    }\n",
       "\n",
       "    .dataframe tbody tr th {\n",
       "        vertical-align: top;\n",
       "    }\n",
       "\n",
       "    .dataframe thead th {\n",
       "        text-align: right;\n",
       "    }\n",
       "</style>\n",
       "<table border=\"1\" class=\"dataframe\">\n",
       "  <thead>\n",
       "    <tr style=\"text-align: right;\">\n",
       "      <th></th>\n",
       "      <th>high</th>\n",
       "      <th>low</th>\n",
       "      <th>open</th>\n",
       "      <th>volume</th>\n",
       "      <th>adj_close</th>\n",
       "      <th>OBV</th>\n",
       "      <th>14 period RSI</th>\n",
       "      <th>BB_UPPER</th>\n",
       "      <th>BB_MIDDLE</th>\n",
       "      <th>BB_LOWER</th>\n",
       "    </tr>\n",
       "  </thead>\n",
       "  <tbody>\n",
       "    <tr>\n",
       "      <th>count</th>\n",
       "      <td>4511.000000</td>\n",
       "      <td>4511.000000</td>\n",
       "      <td>4511.000000</td>\n",
       "      <td>4.511000e+03</td>\n",
       "      <td>4511.000000</td>\n",
       "      <td>4.511000e+03</td>\n",
       "      <td>4511.000000</td>\n",
       "      <td>4511.000000</td>\n",
       "      <td>4511.000000</td>\n",
       "      <td>4511.000000</td>\n",
       "    </tr>\n",
       "    <tr>\n",
       "      <th>mean</th>\n",
       "      <td>37.576318</td>\n",
       "      <td>36.823572</td>\n",
       "      <td>37.200643</td>\n",
       "      <td>1.227037e+08</td>\n",
       "      <td>37.205834</td>\n",
       "      <td>2.016020e+10</td>\n",
       "      <td>54.217064</td>\n",
       "      <td>39.072900</td>\n",
       "      <td>36.990104</td>\n",
       "      <td>34.907309</td>\n",
       "    </tr>\n",
       "    <tr>\n",
       "      <th>std</th>\n",
       "      <td>35.182853</td>\n",
       "      <td>34.445349</td>\n",
       "      <td>34.809058</td>\n",
       "      <td>1.505469e+08</td>\n",
       "      <td>34.815612</td>\n",
       "      <td>3.846793e+09</td>\n",
       "      <td>12.633815</td>\n",
       "      <td>36.664160</td>\n",
       "      <td>34.684090</td>\n",
       "      <td>32.755789</td>\n",
       "    </tr>\n",
       "    <tr>\n",
       "      <th>min</th>\n",
       "      <td>4.221676</td>\n",
       "      <td>4.017691</td>\n",
       "      <td>4.096396</td>\n",
       "      <td>1.584340e+05</td>\n",
       "      <td>4.112087</td>\n",
       "      <td>-8.102176e+08</td>\n",
       "      <td>21.330543</td>\n",
       "      <td>4.602334</td>\n",
       "      <td>3.816469</td>\n",
       "      <td>2.743964</td>\n",
       "    </tr>\n",
       "    <tr>\n",
       "      <th>25%</th>\n",
       "      <td>12.826547</td>\n",
       "      <td>12.538752</td>\n",
       "      <td>12.695290</td>\n",
       "      <td>3.014000e+07</td>\n",
       "      <td>12.676859</td>\n",
       "      <td>1.919959e+10</td>\n",
       "      <td>44.767545</td>\n",
       "      <td>13.464443</td>\n",
       "      <td>12.686246</td>\n",
       "      <td>11.697362</td>\n",
       "    </tr>\n",
       "    <tr>\n",
       "      <th>50%</th>\n",
       "      <td>23.112617</td>\n",
       "      <td>22.821959</td>\n",
       "      <td>23.021212</td>\n",
       "      <td>6.859214e+07</td>\n",
       "      <td>22.988832</td>\n",
       "      <td>2.112246e+10</td>\n",
       "      <td>53.936424</td>\n",
       "      <td>23.350873</td>\n",
       "      <td>22.487651</td>\n",
       "      <td>21.638335</td>\n",
       "    </tr>\n",
       "    <tr>\n",
       "      <th>75%</th>\n",
       "      <td>53.558750</td>\n",
       "      <td>52.362125</td>\n",
       "      <td>52.915998</td>\n",
       "      <td>1.530796e+08</td>\n",
       "      <td>53.011000</td>\n",
       "      <td>2.180190e+10</td>\n",
       "      <td>63.436345</td>\n",
       "      <td>55.625090</td>\n",
       "      <td>52.866928</td>\n",
       "      <td>50.030339</td>\n",
       "    </tr>\n",
       "    <tr>\n",
       "      <th>max</th>\n",
       "      <td>152.100006</td>\n",
       "      <td>149.887497</td>\n",
       "      <td>151.863495</td>\n",
       "      <td>1.650833e+09</td>\n",
       "      <td>150.709000</td>\n",
       "      <td>2.668921e+10</td>\n",
       "      <td>90.929456</td>\n",
       "      <td>154.074570</td>\n",
       "      <td>147.882762</td>\n",
       "      <td>144.401245</td>\n",
       "    </tr>\n",
       "  </tbody>\n",
       "</table>\n",
       "</div>"
      ],
      "text/plain": [
       "              high          low         open        volume    adj_close  \\\n",
       "count  4511.000000  4511.000000  4511.000000  4.511000e+03  4511.000000   \n",
       "mean     37.576318    36.823572    37.200643  1.227037e+08    37.205834   \n",
       "std      35.182853    34.445349    34.809058  1.505469e+08    34.815612   \n",
       "min       4.221676     4.017691     4.096396  1.584340e+05     4.112087   \n",
       "25%      12.826547    12.538752    12.695290  3.014000e+07    12.676859   \n",
       "50%      23.112617    22.821959    23.021212  6.859214e+07    22.988832   \n",
       "75%      53.558750    52.362125    52.915998  1.530796e+08    53.011000   \n",
       "max     152.100006   149.887497   151.863495  1.650833e+09   150.709000   \n",
       "\n",
       "                OBV  14 period RSI     BB_UPPER    BB_MIDDLE     BB_LOWER  \n",
       "count  4.511000e+03    4511.000000  4511.000000  4511.000000  4511.000000  \n",
       "mean   2.016020e+10      54.217064    39.072900    36.990104    34.907309  \n",
       "std    3.846793e+09      12.633815    36.664160    34.684090    32.755789  \n",
       "min   -8.102176e+08      21.330543     4.602334     3.816469     2.743964  \n",
       "25%    1.919959e+10      44.767545    13.464443    12.686246    11.697362  \n",
       "50%    2.112246e+10      53.936424    23.350873    22.487651    21.638335  \n",
       "75%    2.180190e+10      63.436345    55.625090    52.866928    50.030339  \n",
       "max    2.668921e+10      90.929456   154.074570   147.882762   144.401245  "
      ]
     },
     "execution_count": 6,
     "metadata": {},
     "output_type": "execute_result"
    }
   ],
   "source": [
    "df_GOOG.describe()"
   ]
  },
  {
   "cell_type": "markdown",
   "metadata": {},
   "source": [
    "### Visualizing the data"
   ]
  },
  {
   "cell_type": "code",
   "execution_count": 7,
   "metadata": {},
   "outputs": [
    {
     "data": {
      "image/png": "[encoded data removed]",
      "text/plain": [
       "<Figure size 432x288 with 2 Axes>"
      ]
     },
     "metadata": {
      "needs_background": "light"
     },
     "output_type": "display_data"
    }
   ],
   "source": [
    "sns.set (rc = {'figure.figsize':(9, 8)})\n",
    "sns.heatmap(df_GOOG.corr(), annot=True,fmt='.2f');"
   ]
  },
  {
   "cell_type": "markdown",
   "metadata": {},
   "source": [
    "As expected most variables are highly correlated to each other. Exceptions are made by the RSI, which is understandable given that it is more linked to the future price rather than the current one."
   ]
  },
  {
   "cell_type": "code",
   "execution_count": 13,
   "metadata": {},
   "outputs": [
    {
     "ename": "KeyError",
     "evalue": "\"['close'] not in index\"",
     "output_type": "error",
     "traceback": [
      "\u001b[1;31m---------------------------------------------------------------------------\u001b[0m",
      "\u001b[1;31mKeyError\u001b[0m                                  Traceback (most recent call last)",
      "\u001b[1;32mc:\\Users\\Petar\\Desktop\\DataScience\\Udacity\\Capstone\\Stock-Predictor-LSTM.ipynb Cell 15\u001b[0m in \u001b[0;36m<cell line: 23>\u001b[1;34m()\u001b[0m\n\u001b[0;32m     <a href='vscode-notebook-cell:/c%3A/Users/Petar/Desktop/DataScience/Udacity/Capstone/Stock-Predictor-LSTM.ipynb#W5sZmlsZQ%3D%3D?line=19'>20</a>\u001b[0m     plt\u001b[39m.\u001b[39mxlabel(\u001b[39m\"\u001b[39m\u001b[39mDate\u001b[39m\u001b[39m\"\u001b[39m, fontsize\u001b[39m=\u001b[39mfontsize\u001b[39m+\u001b[39m\u001b[39m4\u001b[39m)\n\u001b[0;32m     <a href='vscode-notebook-cell:/c%3A/Users/Petar/Desktop/DataScience/Udacity/Capstone/Stock-Predictor-LSTM.ipynb#W5sZmlsZQ%3D%3D?line=20'>21</a>\u001b[0m     plt\u001b[39m.\u001b[39mshow()\n\u001b[1;32m---> <a href='vscode-notebook-cell:/c%3A/Users/Petar/Desktop/DataScience/Udacity/Capstone/Stock-Predictor-LSTM.ipynb#W5sZmlsZQ%3D%3D?line=22'>23</a>\u001b[0m plot_df(df_GOOG, [\u001b[39m'\u001b[39;49m\u001b[39mclose\u001b[39;49m\u001b[39m'\u001b[39;49m,\u001b[39m'\u001b[39;49m\u001b[39madj_close\u001b[39;49m\u001b[39m'\u001b[39;49m], )\n",
      "\u001b[1;32mc:\\Users\\Petar\\Desktop\\DataScience\\Udacity\\Capstone\\Stock-Predictor-LSTM.ipynb Cell 15\u001b[0m in \u001b[0;36mplot_df\u001b[1;34m(df, col, title)\u001b[0m\n\u001b[0;32m     <a href='vscode-notebook-cell:/c%3A/Users/Petar/Desktop/DataScience/Udacity/Capstone/Stock-Predictor-LSTM.ipynb#W5sZmlsZQ%3D%3D?line=13'>14</a>\u001b[0m         title \u001b[39m+\u001b[39m\u001b[39m=\u001b[39m c_name\u001b[39m+\u001b[39m\u001b[39m'\u001b[39m\u001b[39m-\u001b[39m\u001b[39m'\u001b[39m\n\u001b[0;32m     <a href='vscode-notebook-cell:/c%3A/Users/Petar/Desktop/DataScience/Udacity/Capstone/Stock-Predictor-LSTM.ipynb#W5sZmlsZQ%3D%3D?line=14'>15</a>\u001b[0m     title \u001b[39m=\u001b[39m title[:\u001b[39m-\u001b[39m\u001b[39m1\u001b[39m]\u001b[39m+\u001b[39m\u001b[39m'\u001b[39m\u001b[39m Prices\u001b[39m\u001b[39m'\u001b[39m\n\u001b[1;32m---> <a href='vscode-notebook-cell:/c%3A/Users/Petar/Desktop/DataScience/Udacity/Capstone/Stock-Predictor-LSTM.ipynb#W5sZmlsZQ%3D%3D?line=16'>17</a>\u001b[0m df[col]\u001b[39m.\u001b[39mplot(figsize\u001b[39m=\u001b[39m(\u001b[39m20\u001b[39m,\u001b[39m8\u001b[39m), fontsize\u001b[39m=\u001b[39mfontsize);\n\u001b[0;32m     <a href='vscode-notebook-cell:/c%3A/Users/Petar/Desktop/DataScience/Udacity/Capstone/Stock-Predictor-LSTM.ipynb#W5sZmlsZQ%3D%3D?line=17'>18</a>\u001b[0m plt\u001b[39m.\u001b[39mtitle(title, fontsize\u001b[39m=\u001b[39mfontsize\u001b[39m+\u001b[39m\u001b[39m4\u001b[39m)\n\u001b[0;32m     <a href='vscode-notebook-cell:/c%3A/Users/Petar/Desktop/DataScience/Udacity/Capstone/Stock-Predictor-LSTM.ipynb#W5sZmlsZQ%3D%3D?line=18'>19</a>\u001b[0m plt\u001b[39m.\u001b[39mylabel(\u001b[39m\"\u001b[39m\u001b[39mUSD\u001b[39m\u001b[39m\"\u001b[39m, fontsize\u001b[39m=\u001b[39mfontsize\u001b[39m+\u001b[39m\u001b[39m4\u001b[39m)\n",
      "File \u001b[1;32mc:\\Programs\\Python\\lib\\site-packages\\pandas\\core\\frame.py:3511\u001b[0m, in \u001b[0;36mDataFrame.__getitem__\u001b[1;34m(self, key)\u001b[0m\n\u001b[0;32m   3509\u001b[0m     \u001b[39mif\u001b[39;00m is_iterator(key):\n\u001b[0;32m   3510\u001b[0m         key \u001b[39m=\u001b[39m \u001b[39mlist\u001b[39m(key)\n\u001b[1;32m-> 3511\u001b[0m     indexer \u001b[39m=\u001b[39m \u001b[39mself\u001b[39;49m\u001b[39m.\u001b[39;49mcolumns\u001b[39m.\u001b[39;49m_get_indexer_strict(key, \u001b[39m\"\u001b[39;49m\u001b[39mcolumns\u001b[39;49m\u001b[39m\"\u001b[39;49m)[\u001b[39m1\u001b[39m]\n\u001b[0;32m   3513\u001b[0m \u001b[39m# take() does not accept boolean indexers\u001b[39;00m\n\u001b[0;32m   3514\u001b[0m \u001b[39mif\u001b[39;00m \u001b[39mgetattr\u001b[39m(indexer, \u001b[39m\"\u001b[39m\u001b[39mdtype\u001b[39m\u001b[39m\"\u001b[39m, \u001b[39mNone\u001b[39;00m) \u001b[39m==\u001b[39m \u001b[39mbool\u001b[39m:\n",
      "File \u001b[1;32mc:\\Programs\\Python\\lib\\site-packages\\pandas\\core\\indexes\\base.py:5782\u001b[0m, in \u001b[0;36mIndex._get_indexer_strict\u001b[1;34m(self, key, axis_name)\u001b[0m\n\u001b[0;32m   5779\u001b[0m \u001b[39melse\u001b[39;00m:\n\u001b[0;32m   5780\u001b[0m     keyarr, indexer, new_indexer \u001b[39m=\u001b[39m \u001b[39mself\u001b[39m\u001b[39m.\u001b[39m_reindex_non_unique(keyarr)\n\u001b[1;32m-> 5782\u001b[0m \u001b[39mself\u001b[39;49m\u001b[39m.\u001b[39;49m_raise_if_missing(keyarr, indexer, axis_name)\n\u001b[0;32m   5784\u001b[0m keyarr \u001b[39m=\u001b[39m \u001b[39mself\u001b[39m\u001b[39m.\u001b[39mtake(indexer)\n\u001b[0;32m   5785\u001b[0m \u001b[39mif\u001b[39;00m \u001b[39misinstance\u001b[39m(key, Index):\n\u001b[0;32m   5786\u001b[0m     \u001b[39m# GH 42790 - Preserve name from an Index\u001b[39;00m\n",
      "File \u001b[1;32mc:\\Programs\\Python\\lib\\site-packages\\pandas\\core\\indexes\\base.py:5845\u001b[0m, in \u001b[0;36mIndex._raise_if_missing\u001b[1;34m(self, key, indexer, axis_name)\u001b[0m\n\u001b[0;32m   5842\u001b[0m     \u001b[39mraise\u001b[39;00m \u001b[39mKeyError\u001b[39;00m(\u001b[39mf\u001b[39m\u001b[39m\"\u001b[39m\u001b[39mNone of [\u001b[39m\u001b[39m{\u001b[39;00mkey\u001b[39m}\u001b[39;00m\u001b[39m] are in the [\u001b[39m\u001b[39m{\u001b[39;00maxis_name\u001b[39m}\u001b[39;00m\u001b[39m]\u001b[39m\u001b[39m\"\u001b[39m)\n\u001b[0;32m   5844\u001b[0m not_found \u001b[39m=\u001b[39m \u001b[39mlist\u001b[39m(ensure_index(key)[missing_mask\u001b[39m.\u001b[39mnonzero()[\u001b[39m0\u001b[39m]]\u001b[39m.\u001b[39munique())\n\u001b[1;32m-> 5845\u001b[0m \u001b[39mraise\u001b[39;00m \u001b[39mKeyError\u001b[39;00m(\u001b[39mf\u001b[39m\u001b[39m\"\u001b[39m\u001b[39m{\u001b[39;00mnot_found\u001b[39m}\u001b[39;00m\u001b[39m not in index\u001b[39m\u001b[39m\"\u001b[39m)\n",
      "\u001b[1;31mKeyError\u001b[0m: \"['close'] not in index\""
     ]
    }
   ],
   "source": [
    "def plot_df(df, col, title=None):\n",
    "    '''\n",
    "    plot stock information\n",
    "    input: \n",
    "        df - pandas dataframe containing historical stock information \n",
    "        col - array of strings: column names in df to plot\n",
    "        title - title of plot.\n",
    "    output: None\n",
    "    '''\n",
    "    fontsize=10\n",
    "    if title == None:\n",
    "        title = 'Daily '\n",
    "        for c_name in col:\n",
    "            title += c_name+'-'\n",
    "        title = title[:-1]+' Prices'\n",
    "        \n",
    "    df[col].plot(figsize=(20,8), fontsize=fontsize);\n",
    "    plt.title(title, fontsize=fontsize+4)\n",
    "    plt.ylabel(\"USD\", fontsize=fontsize+4)\n",
    "    plt.xlabel(\"Date\", fontsize=fontsize+4)\n",
    "    plt.show()\n",
    "\n",
    "plot_df(df_GOOG, ['close','adj_close'], )"
   ]
  },
  {
   "cell_type": "markdown",
   "metadata": {},
   "source": [
    "# Basic model"
   ]
  },
  {
   "cell_type": "code",
   "execution_count": 7,
   "metadata": {},
   "outputs": [],
   "source": [
    "# history_points = 21\n",
    "# train_split = 0.7\n",
    "# #Preparation of train test set.\n",
    "# train_indices = int(df_GOOG.shape[0] * train_split)\n",
    "\n",
    "# train_data = df_GOOG[:train_indices]\n",
    "# test_data = df_GOOG[train_indices:]\n",
    "\n",
    "# test_data = test_data.reset_index()\n",
    "# test_data = test_data.drop(columns = ['Date'])\n",
    "\n",
    "# normaliser = preprocessing.MinMaxScaler()\n",
    "# train_normalised_data = normaliser.fit_transform(train_data)\n",
    "\n",
    "# test_normalised_data = normaliser.transform(test_data)\n",
    "\n",
    "# X_train = np.array([train_normalised_data[:,0:][i : i + history_points].copy() for i in range(len(train_normalised_data) - history_points)])\n",
    "\n",
    "# y_train = np.array([train_normalised_data[:,0][i + history_points].copy() for i in range(len(train_normalised_data) - history_points)])\n",
    "# y_train = np.expand_dims(y_train, -1)\n",
    "\n",
    "# y_normaliser = preprocessing.MinMaxScaler()\n",
    "# next_day_close_values = np.array([train_data['adj_close'][i + history_points].copy() for i in range(len(train_data) - history_points)])\n",
    "# next_day_close_values = np.expand_dims(next_day_close_values, -1)\n",
    "\n",
    "# y_normaliser.fit(next_day_close_values)\n",
    "\n",
    "    \n",
    "# X_test = np.array([test_normalised_data[:,0:][i  : i + history_points].copy() for i in range(len(test_normalised_data) - history_points)])\n",
    "\n",
    "\n",
    "# y_test = np.array([test_data['adj_close'][i + history_points].copy() for i in range(len(test_data) - history_points)])\n",
    "\n",
    "# y_test = np.expand_dims(y_test, -1)"
   ]
  },
  {
   "cell_type": "code",
   "execution_count": 8,
   "metadata": {},
   "outputs": [
    {
     "name": "stdout",
     "output_type": "stream",
     "text": [
      "Epoch 1/25\n",
      "189/189 [==============================] - 5s 13ms/step - loss: 0.0040 - val_loss: 0.0089\n",
      "Epoch 2/25\n",
      "189/189 [==============================] - 2s 9ms/step - loss: 8.2895e-04 - val_loss: 8.3832e-04\n",
      "Epoch 3/25\n",
      "189/189 [==============================] - 2s 9ms/step - loss: 5.9315e-04 - val_loss: 4.3362e-04\n",
      "Epoch 4/25\n",
      "189/189 [==============================] - 2s 9ms/step - loss: 4.8435e-04 - val_loss: 3.4920e-04\n",
      "Epoch 5/25\n",
      "189/189 [==============================] - 2s 9ms/step - loss: 5.3330e-04 - val_loss: 2.6715e-04\n",
      "Epoch 6/25\n",
      "189/189 [==============================] - 2s 9ms/step - loss: 4.3355e-04 - val_loss: 0.0014\n",
      "Epoch 7/25\n",
      "189/189 [==============================] - 2s 9ms/step - loss: 3.6745e-04 - val_loss: 5.0362e-04\n",
      "Epoch 8/25\n",
      "189/189 [==============================] - 2s 9ms/step - loss: 3.4288e-04 - val_loss: 2.4304e-04\n",
      "Epoch 9/25\n",
      "189/189 [==============================] - 2s 9ms/step - loss: 3.0274e-04 - val_loss: 4.9474e-04\n",
      "Epoch 10/25\n",
      "189/189 [==============================] - 2s 9ms/step - loss: 3.5722e-04 - val_loss: 0.0011\n",
      "Epoch 11/25\n",
      "189/189 [==============================] - 2s 9ms/step - loss: 3.0110e-04 - val_loss: 1.6860e-04\n",
      "Epoch 12/25\n",
      "189/189 [==============================] - 2s 9ms/step - loss: 3.4401e-04 - val_loss: 3.6505e-04\n",
      "Epoch 13/25\n",
      "189/189 [==============================] - 2s 9ms/step - loss: 2.4989e-04 - val_loss: 2.3828e-04\n",
      "Epoch 14/25\n",
      "189/189 [==============================] - 2s 9ms/step - loss: 3.3772e-04 - val_loss: 0.0025\n",
      "Epoch 15/25\n",
      "189/189 [==============================] - 2s 9ms/step - loss: 2.5794e-04 - val_loss: 7.9790e-04\n",
      "Epoch 16/25\n",
      "189/189 [==============================] - 2s 9ms/step - loss: 3.2876e-04 - val_loss: 0.0020\n",
      "Epoch 17/25\n",
      "189/189 [==============================] - 2s 9ms/step - loss: 2.9530e-04 - val_loss: 1.4104e-04\n",
      "Epoch 18/25\n",
      "189/189 [==============================] - 2s 9ms/step - loss: 2.7584e-04 - val_loss: 1.4051e-04\n",
      "Epoch 19/25\n",
      "189/189 [==============================] - 2s 9ms/step - loss: 2.8781e-04 - val_loss: 3.4999e-04\n",
      "Epoch 20/25\n",
      "189/189 [==============================] - 2s 9ms/step - loss: 2.8702e-04 - val_loss: 4.9400e-04\n",
      "Epoch 21/25\n",
      "189/189 [==============================] - 2s 9ms/step - loss: 2.8785e-04 - val_loss: 0.0016\n",
      "Epoch 22/25\n",
      "189/189 [==============================] - 2s 9ms/step - loss: 2.8154e-04 - val_loss: 1.3991e-04\n",
      "Epoch 23/25\n",
      "189/189 [==============================] - 2s 9ms/step - loss: 2.2215e-04 - val_loss: 5.5716e-04\n",
      "Epoch 24/25\n",
      "189/189 [==============================] - 2s 9ms/step - loss: 2.6957e-04 - val_loss: 1.7634e-04\n",
      "Epoch 25/25\n",
      "189/189 [==============================] - 2s 9ms/step - loss: 3.0511e-04 - val_loss: 0.0014\n"
     ]
    },
    {
     "data": {
      "text/plain": [
       "<keras.callbacks.History at 0x2b3bc496260>"
      ]
     },
     "execution_count": 8,
     "metadata": {},
     "output_type": "execute_result"
    }
   ],
   "source": [
    "# # model architecture\n",
    "# tf.random.set_seed(20)\n",
    "# np.random.seed(10)\n",
    "\n",
    "# lstm_input = Input(shape=(history_points, 11), name='input_for_lstm')\n",
    "\n",
    "# inputs = LSTM(21, name='first_layer', return_sequences = True)(lstm_input)\n",
    "\n",
    "# inputs = Dropout(0.1, name='first_dropout_layer')(inputs)\n",
    "# inputs = LSTM(32, name='lstm_1')(inputs)\n",
    "# inputs = Dropout(0.05, name='lstm_dropout_1')(inputs) #Dropout layers to prevent overfitting\n",
    "# inputs = Dense(32, name='first_dense_layer')(inputs)\n",
    "# inputs = Dense(1, name='dense_layer')(inputs)\n",
    "# output = Activation('linear', name='output')(inputs)\n",
    "\n",
    "# model = Model(inputs=lstm_input, outputs=output)\n",
    "# adam = optimizers.Adam(lr = 0.002)\n",
    "\n",
    "# model.compile(optimizer=adam, loss='mse')\n",
    "# model.fit(x=X_train, y=y_train, batch_size=15, epochs=25, shuffle=True, validation_split = 0.1)\n"
   ]
  },
  {
   "cell_type": "code",
   "execution_count": 9,
   "metadata": {},
   "outputs": [
    {
     "name": "stdout",
     "output_type": "stream",
     "text": [
      "42/42 [==============================] - 1s 3ms/step\n"
     ]
    },
    {
     "data": {
      "text/plain": [
       "<matplotlib.legend.Legend at 0x2b3bbc2d240>"
      ]
     },
     "execution_count": 9,
     "metadata": {},
     "output_type": "execute_result"
    },
    {
     "data": {
      "image/png": "[encoded data removed]",
      "text/plain": [
       "<Figure size 864x576 with 1 Axes>"
      ]
     },
     "metadata": {
      "needs_background": "light"
     },
     "output_type": "display_data"
    }
   ],
   "source": [
    "# y_pred = model.predict(X_test)\n",
    "# y_pred = y_normaliser.inverse_transform(y_pred)\n",
    "\n",
    "# real = plt.plot(y_test, label='Actual Price')\n",
    "# pred = plt.plot(y_pred, label='Predicted Price')\n",
    "\n",
    "# plt.gcf().set_size_inches(12, 8, forward=True)\n",
    "# plt.title('Plot of real price and predicted price against number of days')\n",
    "# plt.xlabel('Number of days')\n",
    "# plt.ylabel('Adjusted Close Price($)')\n",
    "\n",
    "# plt.legend(['Actual Price', 'Predicted Price'])"
   ]
  },
  {
   "cell_type": "code",
   "execution_count": 23,
   "metadata": {},
   "outputs": [
    {
     "data": {
      "text/plain": [
       "array([[  4.7482028 ],\n",
       "       [  4.88244915],\n",
       "       [  4.85355806],\n",
       "       ...,\n",
       "       [100.73999786],\n",
       "       [ 98.08999634],\n",
       "       [ 96.15000153]])"
      ]
     },
     "execution_count": 23,
     "metadata": {},
     "output_type": "execute_result"
    }
   ],
   "source": [
    "df_GOOG.loc[:, ['adj_close']].values"
   ]
  },
  {
   "cell_type": "markdown",
   "metadata": {},
   "source": [
    "# Difference model"
   ]
  },
  {
   "cell_type": "code",
   "execution_count": 34,
   "metadata": {},
   "outputs": [],
   "source": [
    "def data_preprocessing(df, days_prior, split):\n",
    "    '''\n",
    "    Description:\n",
    "    A method to pre-process a given dataframe to be ready for LSTM analysis. The process includes:\n",
    "    - Splitting the dataset into training and test into a pre-determined ratio\n",
    "    - Normalizing both datasets\n",
    "    - Converting each dataset into a tensor, looking back to the specified amount of days\n",
    "    - Defining an inverse normalizer feature for later in the analysis\n",
    "\n",
    "    Inputs:\n",
    "    df - the dataframe to be pre-processed\n",
    "    days_prior - the days to look back to\n",
    "    split - the ratio split of test and train\n",
    "\n",
    "    Outputs\n",
    "    X_train - Predictive variables train set \n",
    "    X_test - Predictive variables train set\n",
    "    y_train - Predicted variable train set\n",
    "    y_test - Predicted variable test set\n",
    "    y_normaliser - inverse normalizer feature\n",
    "\n",
    "    '''\n",
    "\n",
    "    # #Reset the index of the dataframe and get all values but the first\n",
    "    # df_preprocess = df.reset_index().loc[1:]\n",
    "    # #Drop column data as it is not relevant to the prediction\n",
    "    # df_preprocess = df_preprocess.drop(columns = ['Date'])\n",
    "\n",
    "    #Calculate the index of split\n",
    "    split_index = int(df.shape[0] * split)\n",
    "\n",
    "    #Split data\n",
    "    train_data = df[:split_index]\n",
    "    test_data = df[split_index:]\n",
    "\n",
    "    #Normalize the variables\n",
    "    normaliser = preprocessing.MinMaxScaler()\n",
    "    #Creating a specific scaler for the y values\n",
    "    y_normaliser = preprocessing.MinMaxScaler()\n",
    "    train_normalised = normaliser.fit_transform(train_data)\n",
    "    x_train_normalised = np.delete(train_normalised, np.s_[4], 1)\n",
    "    y_train_normalised = train_normalised[:,4]\n",
    "    test_normalised = normaliser.transform(test_data)\n",
    "    x_test_normalised = np.delete(test_normalised, np.s_[4], 1)\n",
    "\n",
    "    y_norm = y_normaliser.fit_transform(train_data.loc[:, ['adj_close']].values)\n",
    "\n",
    "    #Prepare train datasets by \n",
    "    X_train = []\n",
    "    y_train = []\n",
    "    for i in range(days_prior, split_index):\n",
    "        X_train.append(x_train_normalised[i-days_prior:i,0])\n",
    "        y_train.append(y_train_normalised[i])\n",
    "    X_train, y_train = np.array(X_train), np.array(y_train)\n",
    "    X_train = np.reshape(X_train, (X_train.shape[0], X_train.shape[1], 1))\n",
    "\n",
    "    X_test = []\n",
    "    for i in range(days_prior, df.shape[0] - split_index):\n",
    "        X_test.append(x_test_normalised[i-days_prior:i,0])\n",
    "    X_test = np.array(X_test)\n",
    "    X_test = np.reshape(X_test, (X_test.shape[0], X_test.shape[1], 1))\n",
    "\n",
    "    \n",
    "    # train_arr = np.diff(train_data.loc[:, ['adj_close']].values, axis = 0)\n",
    "    # X_train = np.array([train_normalised[i : i + days_prior] for i in range(len(train_normalised) - days_prior)])\n",
    "    # y_train = np.array([train_arr[i + days_prior] for i in range(len(train_arr) - days_prior)])\n",
    "\n",
    "    # test_arr = np.diff(test_data.loc[:, ['adj_close']].values, axis = 0)\n",
    "    # X_test = np.array([test_normalised[i : i + days_prior] for i in range(len(test_normalised) - days_prior)])\n",
    "    # y_test = np.array([test_arr[i + days_prior] for i in range(len(test_arr) - days_prior)])\n",
    "\n",
    "    # y_normaliser = preprocessing.MinMaxScaler()\n",
    "    # next_day_close_values = np.array([train_data['adj_close'][i + days_prior].copy() for i in range(len(train_data) - days_prior)])\n",
    "    # next_day_close_values = np.expand_dims(next_day_close_values, -1)\n",
    "    # y_normaliser.fit(next_day_close_values)\n",
    "\n",
    "    #return X_train[:len(X_train)-1], X_test[:len(X_test)-1], y_train, y_test, y_normaliser, split_index\n",
    "    return X_train, X_test, y_train, y_normaliser, split_index\n",
    "    \n",
    "#X_train, X_test, y_train, y_test, y_normaliser, split_index = data_preprocessing(df_GOOG, 21, 0.7)\n",
    "X_train, X_test, y_train, normaliser, split_index = data_preprocessing(df_GOOG, 21, 0.7)"
   ]
  },
  {
   "cell_type": "code",
   "execution_count": 35,
   "metadata": {},
   "outputs": [
    {
     "name": "stdout",
     "output_type": "stream",
     "text": [
      "Epoch 1/25\n",
      "98/98 [==============================] - 10s 43ms/step - loss: 0.0088\n",
      "Epoch 2/25\n",
      "98/98 [==============================] - 4s 42ms/step - loss: 0.0024\n",
      "Epoch 3/25\n",
      "98/98 [==============================] - 4s 44ms/step - loss: 0.0021\n",
      "Epoch 4/25\n",
      "98/98 [==============================] - 4s 43ms/step - loss: 0.0018\n",
      "Epoch 5/25\n",
      "98/98 [==============================] - 4s 43ms/step - loss: 0.0019\n",
      "Epoch 6/25\n",
      "98/98 [==============================] - 4s 44ms/step - loss: 0.0019\n",
      "Epoch 7/25\n",
      "98/98 [==============================] - 4s 43ms/step - loss: 0.0020\n",
      "Epoch 8/25\n",
      "98/98 [==============================] - 4s 43ms/step - loss: 0.0022\n",
      "Epoch 9/25\n",
      "98/98 [==============================] - 4s 43ms/step - loss: 0.0015\n",
      "Epoch 10/25\n",
      "98/98 [==============================] - 4s 43ms/step - loss: 0.0014\n",
      "Epoch 11/25\n",
      "98/98 [==============================] - 4s 43ms/step - loss: 0.0013\n",
      "Epoch 12/25\n",
      "98/98 [==============================] - 4s 45ms/step - loss: 0.0013\n",
      "Epoch 13/25\n",
      "98/98 [==============================] - 4s 45ms/step - loss: 0.0013\n",
      "Epoch 14/25\n",
      "98/98 [==============================] - 4s 43ms/step - loss: 0.0017\n",
      "Epoch 15/25\n",
      "98/98 [==============================] - 4s 43ms/step - loss: 0.0011\n",
      "Epoch 16/25\n",
      "98/98 [==============================] - 4s 44ms/step - loss: 0.0012\n",
      "Epoch 17/25\n",
      "98/98 [==============================] - 5s 52ms/step - loss: 0.0013\n",
      "Epoch 18/25\n",
      "98/98 [==============================] - 4s 45ms/step - loss: 0.0012\n",
      "Epoch 19/25\n",
      "98/98 [==============================] - 4s 43ms/step - loss: 0.0012\n",
      "Epoch 20/25\n",
      "98/98 [==============================] - 4s 44ms/step - loss: 0.0011\n",
      "Epoch 21/25\n",
      "98/98 [==============================] - 4s 43ms/step - loss: 9.3802e-04\n",
      "Epoch 22/25\n",
      "98/98 [==============================] - 4s 45ms/step - loss: 9.8460e-04\n",
      "Epoch 23/25\n",
      "98/98 [==============================] - 4s 44ms/step - loss: 0.0011\n",
      "Epoch 24/25\n",
      "98/98 [==============================] - 5s 47ms/step - loss: 9.3076e-04\n",
      "Epoch 25/25\n",
      "98/98 [==============================] - 5s 46ms/step - loss: 8.9515e-04\n"
     ]
    },
    {
     "data": {
      "text/plain": [
       "<keras.callbacks.History at 0x256f92ab040>"
      ]
     },
     "execution_count": 35,
     "metadata": {},
     "output_type": "execute_result"
    }
   ],
   "source": [
    "model = Sequential()\n",
    "#Adding the first LSTM layer and some Dropout regularisation\n",
    "model.add(LSTM(units = 50, return_sequences = True, input_shape = (X_train.shape[1], 1)))\n",
    "model.add(Dropout(0.2))\n",
    "# Adding a second LSTM layer and some Dropout regularisation\n",
    "model.add(LSTM(units = 50, return_sequences = True))\n",
    "model.add(Dropout(0.2))\n",
    "# Adding a third LSTM layer and some Dropout regularisation\n",
    "model.add(LSTM(units = 50, return_sequences = True))\n",
    "model.add(Dropout(0.2))\n",
    "# Adding a fourth LSTM layer and some Dropout regularisation\n",
    "model.add(LSTM(units = 50))\n",
    "model.add(Dropout(0.2))\n",
    "# Adding the output layer\n",
    "model.add(Dense(units = 1))\n",
    "\n",
    "# Compiling the RNN\n",
    "model.compile(optimizer = 'adam', loss = 'mean_squared_error')\n",
    "\n",
    "# Fitting the RNN to the Training set\n",
    "model.fit(X_train, y_train, epochs = 25, batch_size = 32)"
   ]
  },
  {
   "cell_type": "code",
   "execution_count": 36,
   "metadata": {},
   "outputs": [
    {
     "name": "stdout",
     "output_type": "stream",
     "text": [
      "41/41 [==============================] - 2s 14ms/step\n"
     ]
    }
   ],
   "source": [
    "predicted_stock_price = model.predict(X_test)\n",
    "predicted_stock_price = normaliser.inverse_transform(predicted_stock_price)"
   ]
  },
  {
   "cell_type": "code",
   "execution_count": 28,
   "metadata": {},
   "outputs": [
    {
     "data": {
      "text/plain": [
       "array([[47.11925 ],\n",
       "       [47.002712],\n",
       "       [46.865353],\n",
       "       ...,\n",
       "       [74.467964],\n",
       "       [74.33786 ],\n",
       "       [74.2127  ]], dtype=float32)"
      ]
     },
     "execution_count": 28,
     "metadata": {},
     "output_type": "execute_result"
    }
   ],
   "source": [
    "predicted_stock_price"
   ]
  },
  {
   "cell_type": "code",
   "execution_count": 37,
   "metadata": {},
   "outputs": [
    {
     "data": {
      "image/png": "[encoded data removed]",
      "text/plain": [
       "<Figure size 432x288 with 1 Axes>"
      ]
     },
     "metadata": {
      "needs_background": "light"
     },
     "output_type": "display_data"
    }
   ],
   "source": [
    "# Visualising the results\n",
    "plt.plot(df_GOOG[split_index:].loc[:, ['adj_close']].values, color = \"red\", label = \"Real Google Stock Price\")\n",
    "plt.plot(predicted_stock_price, color = \"blue\", label = \"Predicted Google Stock Price\")\n",
    "plt.title('Google Stock Price Prediction')\n",
    "plt.xlabel('Time')\n",
    "plt.ylabel('TESLA Stock Price')\n",
    "plt.legend()\n",
    "plt.show()"
   ]
  },
  {
   "cell_type": "code",
   "execution_count": 19,
   "metadata": {},
   "outputs": [
    {
     "name": "stdout",
     "output_type": "stream",
     "text": [
      "Epoch 1/25\n",
      "189/189 [==============================] - 5s 12ms/step - loss: 0.0976 - val_loss: 0.1538\n",
      "Epoch 2/25\n",
      "189/189 [==============================] - 2s 9ms/step - loss: 0.0964 - val_loss: 0.1539\n",
      "Epoch 3/25\n",
      "189/189 [==============================] - 2s 9ms/step - loss: 0.0962 - val_loss: 0.1542\n",
      "Epoch 4/25\n",
      "189/189 [==============================] - 2s 9ms/step - loss: 0.0961 - val_loss: 0.1561\n",
      "Epoch 5/25\n",
      "189/189 [==============================] - 2s 9ms/step - loss: 0.0958 - val_loss: 0.1545\n",
      "Epoch 6/25\n",
      "189/189 [==============================] - 2s 10ms/step - loss: 0.0958 - val_loss: 0.1547\n",
      "Epoch 7/25\n",
      "189/189 [==============================] - 2s 9ms/step - loss: 0.0959 - val_loss: 0.1547\n",
      "Epoch 8/25\n",
      "189/189 [==============================] - 2s 9ms/step - loss: 0.0958 - val_loss: 0.1542\n",
      "Epoch 9/25\n",
      "189/189 [==============================] - 2s 9ms/step - loss: 0.0958 - val_loss: 0.1544\n",
      "Epoch 10/25\n",
      "189/189 [==============================] - 2s 10ms/step - loss: 0.0957 - val_loss: 0.1552\n",
      "Epoch 11/25\n",
      "189/189 [==============================] - 2s 10ms/step - loss: 0.0958 - val_loss: 0.1543\n",
      "Epoch 12/25\n",
      "189/189 [==============================] - 2s 9ms/step - loss: 0.0957 - val_loss: 0.1546\n",
      "Epoch 13/25\n",
      "189/189 [==============================] - 2s 9ms/step - loss: 0.0958 - val_loss: 0.1546\n",
      "Epoch 14/25\n",
      "189/189 [==============================] - 2s 9ms/step - loss: 0.0957 - val_loss: 0.1543\n",
      "Epoch 15/25\n",
      "189/189 [==============================] - 2s 9ms/step - loss: 0.0955 - val_loss: 0.1540\n",
      "Epoch 16/25\n",
      "189/189 [==============================] - 2s 9ms/step - loss: 0.0957 - val_loss: 0.1552\n",
      "Epoch 17/25\n",
      "189/189 [==============================] - 2s 9ms/step - loss: 0.0957 - val_loss: 0.1540\n",
      "Epoch 18/25\n",
      "189/189 [==============================] - 2s 10ms/step - loss: 0.0958 - val_loss: 0.1546\n",
      "Epoch 19/25\n",
      "189/189 [==============================] - 2s 9ms/step - loss: 0.0956 - val_loss: 0.1549\n",
      "Epoch 20/25\n",
      "189/189 [==============================] - 2s 9ms/step - loss: 0.0957 - val_loss: 0.1544\n",
      "Epoch 21/25\n",
      "189/189 [==============================] - 2s 9ms/step - loss: 0.0957 - val_loss: 0.1549\n",
      "Epoch 22/25\n",
      "189/189 [==============================] - 2s 9ms/step - loss: 0.0957 - val_loss: 0.1545\n",
      "Epoch 23/25\n",
      "189/189 [==============================] - 2s 9ms/step - loss: 0.0956 - val_loss: 0.1540\n",
      "Epoch 24/25\n",
      "189/189 [==============================] - 2s 9ms/step - loss: 0.0957 - val_loss: 0.1543\n",
      "Epoch 25/25\n",
      "189/189 [==============================] - 2s 9ms/step - loss: 0.0957 - val_loss: 0.1551\n"
     ]
    },
    {
     "data": {
      "text/plain": [
       "<keras.callbacks.History at 0x20dd9fe1390>"
      ]
     },
     "execution_count": 19,
     "metadata": {},
     "output_type": "execute_result"
    }
   ],
   "source": [
    "#Setting of seed (to maintain constant result)\n",
    "tf.random.set_seed(20)\n",
    "np.random.seed(10)\n",
    "\n",
    "lstm_input = Input(shape=(21, 10), name='input_for_lstm')\n",
    "\n",
    "inputs = LSTM(21, name='first_layer', return_sequences = True)(lstm_input)\n",
    "\n",
    "inputs = Dropout(0.1, name='first_dropout_layer')(inputs)\n",
    "inputs = LSTM(32, name='lstm_1')(inputs)\n",
    "inputs = Dropout(0.05, name='lstm_dropout_1')(inputs) #Dropout layers to prevent overfitting\n",
    "inputs = Dense(32, name='first_dense_layer')(inputs)\n",
    "inputs = Dense(1, name='dense_layer')(inputs)\n",
    "output = Activation('linear', name='output')(inputs)\n",
    "\n",
    "model = Model(inputs=lstm_input, outputs=output)\n",
    "adam = optimizers.Adam(lr = 0.002)\n",
    "\n",
    "model.compile(optimizer=adam, loss='mse')\n",
    "model.fit(x=X_train, y=y_train, batch_size=15, epochs=25, shuffle=True, validation_split = 0.1)"
   ]
  },
  {
   "cell_type": "code",
   "execution_count": 12,
   "metadata": {},
   "outputs": [],
   "source": [
    "# history_points = 21\n",
    "# y_normaliser = preprocessing.MinMaxScaler()\n",
    "# next_day_close_values = np.array([train_data['adj_close'][i + history_points].copy() for i in range(len(train_data) - history_points)])\n",
    "# next_day_close_values = np.expand_dims(next_day_close_values, -1)"
   ]
  },
  {
   "cell_type": "code",
   "execution_count": 14,
   "metadata": {},
   "outputs": [
    {
     "data": {
      "text/plain": [
       "array([ 4.53251123,  4.48220015,  4.46825218, ..., 46.61100006,\n",
       "       46.85400009, 47.15000153])"
      ]
     },
     "execution_count": 14,
     "metadata": {},
     "output_type": "execute_result"
    }
   ],
   "source": [
    "# next_day_close_values = np.array([train_data['adj_close'][i + history_points].copy() for i in range(len(train_data) - history_points)])\n",
    "# next_day_close_values"
   ]
  },
  {
   "cell_type": "code",
   "execution_count": 15,
   "metadata": {},
   "outputs": [
    {
     "data": {
      "text/plain": [
       "array([[ 4.53251123],\n",
       "       [ 4.48220015],\n",
       "       [ 4.46825218],\n",
       "       ...,\n",
       "       [46.61100006],\n",
       "       [46.85400009],\n",
       "       [47.15000153]])"
      ]
     },
     "execution_count": 15,
     "metadata": {},
     "output_type": "execute_result"
    }
   ],
   "source": [
    "# next_day_close_values = np.expand_dims(next_day_close_values, -1)\n",
    "# next_day_close_values"
   ]
  },
  {
   "cell_type": "code",
   "execution_count": 17,
   "metadata": {},
   "outputs": [
    {
     "data": {
      "text/html": [
       "<style>#sk-container-id-2 {color: black;background-color: white;}#sk-container-id-2 pre{padding: 0;}#sk-container-id-2 div.sk-toggleable {background-color: white;}#sk-container-id-2 label.sk-toggleable__label {cursor: pointer;display: block;width: 100%;margin-bottom: 0;padding: 0.3em;box-sizing: border-box;text-align: center;}#sk-container-id-2 label.sk-toggleable__label-arrow:before {content: \"▸\";float: left;margin-right: 0.25em;color: #696969;}#sk-container-id-2 label.sk-toggleable__label-arrow:hover:before {color: black;}#sk-container-id-2 div.sk-estimator:hover label.sk-toggleable__label-arrow:before {color: black;}#sk-container-id-2 div.sk-toggleable__content {max-height: 0;max-width: 0;overflow: hidden;text-align: left;background-color: #f0f8ff;}#sk-container-id-2 div.sk-toggleable__content pre {margin: 0.2em;color: black;border-radius: 0.25em;background-color: #f0f8ff;}#sk-container-id-2 input.sk-toggleable__control:checked~div.sk-toggleable__content {max-height: 200px;max-width: 100%;overflow: auto;}#sk-container-id-2 input.sk-toggleable__control:checked~label.sk-toggleable__label-arrow:before {content: \"▾\";}#sk-container-id-2 div.sk-estimator input.sk-toggleable__control:checked~label.sk-toggleable__label {background-color: #d4ebff;}#sk-container-id-2 div.sk-label input.sk-toggleable__control:checked~label.sk-toggleable__label {background-color: #d4ebff;}#sk-container-id-2 input.sk-hidden--visually {border: 0;clip: rect(1px 1px 1px 1px);clip: rect(1px, 1px, 1px, 1px);height: 1px;margin: -1px;overflow: hidden;padding: 0;position: absolute;width: 1px;}#sk-container-id-2 div.sk-estimator {font-family: monospace;background-color: #f0f8ff;border: 1px dotted black;border-radius: 0.25em;box-sizing: border-box;margin-bottom: 0.5em;}#sk-container-id-2 div.sk-estimator:hover {background-color: #d4ebff;}#sk-container-id-2 div.sk-parallel-item::after {content: \"\";width: 100%;border-bottom: 1px solid gray;flex-grow: 1;}#sk-container-id-2 div.sk-label:hover label.sk-toggleable__label {background-color: #d4ebff;}#sk-container-id-2 div.sk-serial::before {content: \"\";position: absolute;border-left: 1px solid gray;box-sizing: border-box;top: 0;bottom: 0;left: 50%;z-index: 0;}#sk-container-id-2 div.sk-serial {display: flex;flex-direction: column;align-items: center;background-color: white;padding-right: 0.2em;padding-left: 0.2em;position: relative;}#sk-container-id-2 div.sk-item {position: relative;z-index: 1;}#sk-container-id-2 div.sk-parallel {display: flex;align-items: stretch;justify-content: center;background-color: white;position: relative;}#sk-container-id-2 div.sk-item::before, #sk-container-id-2 div.sk-parallel-item::before {content: \"\";position: absolute;border-left: 1px solid gray;box-sizing: border-box;top: 0;bottom: 0;left: 50%;z-index: -1;}#sk-container-id-2 div.sk-parallel-item {display: flex;flex-direction: column;z-index: 1;position: relative;background-color: white;}#sk-container-id-2 div.sk-parallel-item:first-child::after {align-self: flex-end;width: 50%;}#sk-container-id-2 div.sk-parallel-item:last-child::after {align-self: flex-start;width: 50%;}#sk-container-id-2 div.sk-parallel-item:only-child::after {width: 0;}#sk-container-id-2 div.sk-dashed-wrapped {border: 1px dashed gray;margin: 0 0.4em 0.5em 0.4em;box-sizing: border-box;padding-bottom: 0.4em;background-color: white;}#sk-container-id-2 div.sk-label label {font-family: monospace;font-weight: bold;display: inline-block;line-height: 1.2em;}#sk-container-id-2 div.sk-label-container {text-align: center;}#sk-container-id-2 div.sk-container {/* jupyter's `normalize.less` sets `[hidden] { display: none; }` but bootstrap.min.css set `[hidden] { display: none !important; }` so we also need the `!important` here to be able to override the default hidden behavior on the sphinx rendered scikit-learn.org. See: https://github.com/scikit-learn/scikit-learn/issues/21755 */display: inline-block !important;position: relative;}#sk-container-id-2 div.sk-text-repr-fallback {display: none;}</style><div id=\"sk-container-id-2\" class=\"sk-top-container\"><div class=\"sk-text-repr-fallback\"><pre>MinMaxScaler()</pre><b>In a Jupyter environment, please rerun this cell to show the HTML representation or trust the notebook. <br />On GitHub, the HTML representation is unable to render, please try loading this page with nbviewer.org.</b></div><div class=\"sk-container\" hidden><div class=\"sk-item\"><div class=\"sk-estimator sk-toggleable\"><input class=\"sk-toggleable__control sk-hidden--visually\" id=\"sk-estimator-id-2\" type=\"checkbox\" checked><label for=\"sk-estimator-id-2\" class=\"sk-toggleable__label sk-toggleable__label-arrow\">MinMaxScaler</label><div class=\"sk-toggleable__content\"><pre>MinMaxScaler()</pre></div></div></div></div></div>"
      ],
      "text/plain": [
       "MinMaxScaler()"
      ]
     },
     "execution_count": 17,
     "metadata": {},
     "output_type": "execute_result"
    }
   ],
   "source": [
    "# y_normaliser.fit(next_day_close_values)"
   ]
  },
  {
   "cell_type": "code",
   "execution_count": 34,
   "metadata": {},
   "outputs": [
    {
     "name": "stdout",
     "output_type": "stream",
     "text": [
      "42/42 [==============================] - 0s 3ms/step\n"
     ]
    }
   ],
   "source": [
    "y_pred = model.predict(X_test)"
   ]
  },
  {
   "cell_type": "code",
   "execution_count": 37,
   "metadata": {},
   "outputs": [
    {
     "data": {
      "text/plain": [
       "array([4.3127213, 4.312695 , 4.3127003, ..., 4.3173494, 4.3172226,\n",
       "       4.31719  ], dtype=float32)"
      ]
     },
     "execution_count": 37,
     "metadata": {},
     "output_type": "execute_result"
    }
   ],
   "source": [
    "y_pred"
   ]
  },
  {
   "cell_type": "code",
   "execution_count": 38,
   "metadata": {},
   "outputs": [
    {
     "name": "stdout",
     "output_type": "stream",
     "text": [
      "42/42 [==============================] - 0s 3ms/step\n",
      "4.778132352859906\n"
     ]
    },
    {
     "data": {
      "image/png": "[encoded data removed]",
      "text/plain": [
       "<Figure size 864x576 with 1 Axes>"
      ]
     },
     "metadata": {
      "needs_background": "light"
     },
     "output_type": "display_data"
    }
   ],
   "source": [
    "#prediction of model\n",
    "y_pred = model.predict(X_test)\n",
    "y_pred = y_normaliser.inverse_transform(y_pred)\n",
    "\n",
    "y_pred = y_pred.flatten()\n",
    "\n",
    "#actual represents the test set's actual stock prices\n",
    "actual = np.array([df_GOOG[split_index:]['adj_close'][i + 21].copy() for i in range(len(df_GOOG[split_index:]) - 21)])\n",
    "\n",
    "temp_actual = actual[:-2]\n",
    "\n",
    "#Adding each actual price at time t with the predicted difference to get a predicted price at time t + 1\n",
    "new = np.add(temp_actual, y_pred)\n",
    "\n",
    "plt.gcf().set_size_inches(12, 8, forward=True)\n",
    "plt.title('Plot of real price and predicted price against number of days for test set')\n",
    "plt.xlabel('Number of days')\n",
    "plt.ylabel('Adjusted Close Price($)')\n",
    "\n",
    "plt.plot(actual[1:], label='Actual Price')\n",
    "plt.plot(new - 4.31, label='Predicted Price')\n",
    "\n",
    "print(mean_squared_error(actual[2:], new, squared = False))\n",
    "\n",
    "#plotting of model  \n",
    "plt.legend(['Actual Price', 'Predicted Price'])\n",
    "\n",
    "\n",
    "plt.show()"
   ]
  }
 ],
 "metadata": {
  "kernelspec": {
   "display_name": "Python 3.10.0 64-bit",
   "language": "python",
   "name": "python3"
  },
  "language_info": {
   "codemirror_mode": {
    "name": "ipython",
    "version": 3
   },
   "file_extension": ".py",
   "mimetype": "text/x-python",
   "name": "python",
   "nbconvert_exporter": "python",
   "pygments_lexer": "ipython3",
   "version": "3.10.0"
  },
  "orig_nbformat": 4,
  "vscode": {
   "interpreter": {
    "hash": "301da6f0e7e53b7955fa2d3d6c4b0305db26df81f353cd714eada29af4753e7a"
   }
  }
 },
 "nbformat": 4,
 "nbformat_minor": 2
}
