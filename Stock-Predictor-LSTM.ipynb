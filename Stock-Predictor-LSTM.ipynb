{
 "cells": [
  {
   "cell_type": "markdown",
   "metadata": {},
   "source": [
    "# Stock-Predictor using LSTM"
   ]
  },
  {
   "cell_type": "markdown",
   "metadata": {},
   "source": [
    "### Import libraries"
   ]
  },
  {
   "cell_type": "code",
   "execution_count": 1,
   "metadata": {},
   "outputs": [],
   "source": [
    "import datetime as dt\n",
    "from finta import TA\n",
    "\n",
    "import pandas as pd\n",
    "from pandas_datareader import data as web\n",
    "import numpy as np\n",
    "\n",
    "import matplotlib.pyplot as plt\n",
    "import seaborn as sns\n",
    "\n",
    "from sklearn import preprocessing\n",
    "from sklearn.metrics import mean_squared_error\n",
    "from numpy import size\n",
    "from sklearn.model_selection import train_test_split\n",
    "from sklearn.preprocessing import MinMaxScaler\n",
    "\n",
    "import tensorflow as tf\n",
    "\n",
    "import keras\n",
    "from keras.models import Sequential\n",
    "from keras.models import Model\n",
    "from keras.layers import Dense, Dropout, LSTM, Input, Activation, concatenate\n",
    "from keras import optimizers\n",
    "from keras.callbacks import History \n",
    "\n",
    "np.warnings.filterwarnings('ignore')"
   ]
  },
  {
   "cell_type": "markdown",
   "metadata": {},
   "source": [
    "### Load data and pre-processing"
   ]
  },
  {
   "cell_type": "code",
   "execution_count": 2,
   "metadata": {},
   "outputs": [
    {
     "data": {
      "text/html": [
       "<div>\n",
       "<style scoped>\n",
       "    .dataframe tbody tr th:only-of-type {\n",
       "        vertical-align: middle;\n",
       "    }\n",
       "\n",
       "    .dataframe tbody tr th {\n",
       "        vertical-align: top;\n",
       "    }\n",
       "\n",
       "    .dataframe thead th {\n",
       "        text-align: right;\n",
       "    }\n",
       "</style>\n",
       "<table border=\"1\" class=\"dataframe\">\n",
       "  <thead>\n",
       "    <tr style=\"text-align: right;\">\n",
       "      <th></th>\n",
       "      <th>High</th>\n",
       "      <th>Low</th>\n",
       "      <th>Open</th>\n",
       "      <th>Close</th>\n",
       "      <th>Volume</th>\n",
       "      <th>Adj Close</th>\n",
       "    </tr>\n",
       "    <tr>\n",
       "      <th>Date</th>\n",
       "      <th></th>\n",
       "      <th></th>\n",
       "      <th></th>\n",
       "      <th></th>\n",
       "      <th></th>\n",
       "      <th></th>\n",
       "    </tr>\n",
       "  </thead>\n",
       "  <tbody>\n",
       "    <tr>\n",
       "      <th>2022-09-27</th>\n",
       "      <td>100.459999</td>\n",
       "      <td>97.339996</td>\n",
       "      <td>99.910004</td>\n",
       "      <td>98.089996</td>\n",
       "      <td>24225000.0</td>\n",
       "      <td>98.089996</td>\n",
       "    </tr>\n",
       "    <tr>\n",
       "      <th>2022-09-28</th>\n",
       "      <td>101.400002</td>\n",
       "      <td>97.800003</td>\n",
       "      <td>98.019997</td>\n",
       "      <td>100.739998</td>\n",
       "      <td>24617000.0</td>\n",
       "      <td>100.739998</td>\n",
       "    </tr>\n",
       "    <tr>\n",
       "      <th>2022-09-29</th>\n",
       "      <td>99.300003</td>\n",
       "      <td>96.519997</td>\n",
       "      <td>99.300003</td>\n",
       "      <td>98.089996</td>\n",
       "      <td>21921500.0</td>\n",
       "      <td>98.089996</td>\n",
       "    </tr>\n",
       "    <tr>\n",
       "      <th>2022-09-30</th>\n",
       "      <td>99.494003</td>\n",
       "      <td>96.029999</td>\n",
       "      <td>97.730003</td>\n",
       "      <td>96.150002</td>\n",
       "      <td>26248200.0</td>\n",
       "      <td>96.150002</td>\n",
       "    </tr>\n",
       "  </tbody>\n",
       "</table>\n",
       "</div>"
      ],
      "text/plain": [
       "                  High        Low       Open       Close      Volume  \\\n",
       "Date                                                                   \n",
       "2022-09-27  100.459999  97.339996  99.910004   98.089996  24225000.0   \n",
       "2022-09-28  101.400002  97.800003  98.019997  100.739998  24617000.0   \n",
       "2022-09-29   99.300003  96.519997  99.300003   98.089996  21921500.0   \n",
       "2022-09-30   99.494003  96.029999  97.730003   96.150002  26248200.0   \n",
       "\n",
       "             Adj Close  \n",
       "Date                    \n",
       "2022-09-27   98.089996  \n",
       "2022-09-28  100.739998  \n",
       "2022-09-29   98.089996  \n",
       "2022-09-30   96.150002  "
      ]
     },
     "execution_count": 2,
     "metadata": {},
     "output_type": "execute_result"
    }
   ],
   "source": [
    "def get_stock_data(symbol, start_date, end_date):\n",
    "    '''\n",
    "    download stock data over from yahoo api form start date to end date\n",
    "    input\n",
    "        stock - String representing stock symbol eg APPL\n",
    "        start - datetime object represent start date; default Jan 1, 2010\n",
    "        end - datetime object represent end date; default: Jan 1, 2020\n",
    "    output\n",
    "        historical stock data pulled from yahoo finance stock api from start to end dates\n",
    "    '''\n",
    "    stockData = web.DataReader(symbol, 'yahoo', start_date, end_date)\n",
    "    \n",
    "    return stockData\n",
    "\n",
    "start_date = dt.datetime(2004, 10, 1)\n",
    "end_date = dt.datetime(2022, 10, 1)\n",
    "df_GOOG = get_stock_data('GOOG',start_date, end_date)\n",
    "df_GOOG.tail(4)"
   ]
  },
  {
   "cell_type": "code",
   "execution_count": 3,
   "metadata": {},
   "outputs": [],
   "source": [
    "#Renaming columns\n",
    "df_GOOG.rename(columns = {'High':'high', 'Low': 'low', 'Open':'open','Volume':'volume', 'Adj Close':'adj_close'}, inplace = True)"
   ]
  },
  {
   "cell_type": "markdown",
   "metadata": {},
   "source": [
    "### Adding features"
   ]
  },
  {
   "cell_type": "markdown",
   "metadata": {},
   "source": [
    "Additional features were added in order to increase the accuracy of the prediction. The features are in the form of technical indicators used to measure the performance of the stock in various ways. There are different types of technical indicators, namely: **trend, momentum, volatility and volume**. \n",
    "\n",
    "For best results, it is advised to use a mixture of techincal indicators. Otherwise, using many indicators of the same type will result in **multicollinearity**, overblowing the results\n",
    "\n",
    "In this analysis the following techincal indicators were chosen:\n",
    "\n",
    "Relative Strength Index (RSI) - Used as a momentum indicator commonly used to determine the strength of price changes in market. \n",
    "\n",
    "On Balance Volume - Used as a volume indicator, calculating the buying and selling pressures of a stock\n",
    "\n",
    "Bollinger Bands -  Used as a volatility and trend indicator, plots three trend lines, determining whether a stock is overbought or oversold."
   ]
  },
  {
   "cell_type": "code",
   "execution_count": 4,
   "metadata": {},
   "outputs": [
    {
     "data": {
      "text/html": [
       "<div>\n",
       "<style scoped>\n",
       "    .dataframe tbody tr th:only-of-type {\n",
       "        vertical-align: middle;\n",
       "    }\n",
       "\n",
       "    .dataframe tbody tr th {\n",
       "        vertical-align: top;\n",
       "    }\n",
       "\n",
       "    .dataframe thead th {\n",
       "        text-align: right;\n",
       "    }\n",
       "</style>\n",
       "<table border=\"1\" class=\"dataframe\">\n",
       "  <thead>\n",
       "    <tr style=\"text-align: right;\">\n",
       "      <th></th>\n",
       "      <th>high</th>\n",
       "      <th>low</th>\n",
       "      <th>open</th>\n",
       "      <th>Close</th>\n",
       "      <th>volume</th>\n",
       "      <th>adj_close</th>\n",
       "      <th>OBV</th>\n",
       "      <th>14 period RSI</th>\n",
       "      <th>BB_UPPER</th>\n",
       "      <th>BB_MIDDLE</th>\n",
       "      <th>BB_LOWER</th>\n",
       "    </tr>\n",
       "  </thead>\n",
       "  <tbody>\n",
       "    <tr>\n",
       "      <th>count</th>\n",
       "      <td>4511.000000</td>\n",
       "      <td>4511.000000</td>\n",
       "      <td>4511.000000</td>\n",
       "      <td>4511.000000</td>\n",
       "      <td>4.511000e+03</td>\n",
       "      <td>4511.000000</td>\n",
       "      <td>4.511000e+03</td>\n",
       "      <td>4511.000000</td>\n",
       "      <td>4511.000000</td>\n",
       "      <td>4511.000000</td>\n",
       "      <td>4511.000000</td>\n",
       "    </tr>\n",
       "    <tr>\n",
       "      <th>mean</th>\n",
       "      <td>37.576318</td>\n",
       "      <td>36.823572</td>\n",
       "      <td>37.200643</td>\n",
       "      <td>37.205834</td>\n",
       "      <td>1.227037e+08</td>\n",
       "      <td>37.205834</td>\n",
       "      <td>2.016020e+10</td>\n",
       "      <td>54.217064</td>\n",
       "      <td>39.072900</td>\n",
       "      <td>36.990104</td>\n",
       "      <td>34.907309</td>\n",
       "    </tr>\n",
       "    <tr>\n",
       "      <th>std</th>\n",
       "      <td>35.182853</td>\n",
       "      <td>34.445349</td>\n",
       "      <td>34.809058</td>\n",
       "      <td>34.815612</td>\n",
       "      <td>1.505469e+08</td>\n",
       "      <td>34.815612</td>\n",
       "      <td>3.846793e+09</td>\n",
       "      <td>12.633815</td>\n",
       "      <td>36.664160</td>\n",
       "      <td>34.684090</td>\n",
       "      <td>32.755789</td>\n",
       "    </tr>\n",
       "    <tr>\n",
       "      <th>min</th>\n",
       "      <td>4.221676</td>\n",
       "      <td>4.017691</td>\n",
       "      <td>4.096396</td>\n",
       "      <td>4.112087</td>\n",
       "      <td>1.584340e+05</td>\n",
       "      <td>4.112087</td>\n",
       "      <td>-8.102176e+08</td>\n",
       "      <td>21.330543</td>\n",
       "      <td>4.602334</td>\n",
       "      <td>3.816469</td>\n",
       "      <td>2.743964</td>\n",
       "    </tr>\n",
       "    <tr>\n",
       "      <th>25%</th>\n",
       "      <td>12.826547</td>\n",
       "      <td>12.538752</td>\n",
       "      <td>12.695290</td>\n",
       "      <td>12.676859</td>\n",
       "      <td>3.014000e+07</td>\n",
       "      <td>12.676859</td>\n",
       "      <td>1.919959e+10</td>\n",
       "      <td>44.767545</td>\n",
       "      <td>13.464443</td>\n",
       "      <td>12.686246</td>\n",
       "      <td>11.697362</td>\n",
       "    </tr>\n",
       "    <tr>\n",
       "      <th>50%</th>\n",
       "      <td>23.112617</td>\n",
       "      <td>22.821959</td>\n",
       "      <td>23.021212</td>\n",
       "      <td>22.988832</td>\n",
       "      <td>6.859214e+07</td>\n",
       "      <td>22.988832</td>\n",
       "      <td>2.112246e+10</td>\n",
       "      <td>53.936424</td>\n",
       "      <td>23.350873</td>\n",
       "      <td>22.487651</td>\n",
       "      <td>21.638335</td>\n",
       "    </tr>\n",
       "    <tr>\n",
       "      <th>75%</th>\n",
       "      <td>53.558750</td>\n",
       "      <td>52.362125</td>\n",
       "      <td>52.915998</td>\n",
       "      <td>53.011000</td>\n",
       "      <td>1.530796e+08</td>\n",
       "      <td>53.011000</td>\n",
       "      <td>2.180190e+10</td>\n",
       "      <td>63.436345</td>\n",
       "      <td>55.625090</td>\n",
       "      <td>52.866928</td>\n",
       "      <td>50.030339</td>\n",
       "    </tr>\n",
       "    <tr>\n",
       "      <th>max</th>\n",
       "      <td>152.100006</td>\n",
       "      <td>149.887497</td>\n",
       "      <td>151.863495</td>\n",
       "      <td>150.709000</td>\n",
       "      <td>1.650833e+09</td>\n",
       "      <td>150.709000</td>\n",
       "      <td>2.668921e+10</td>\n",
       "      <td>90.929456</td>\n",
       "      <td>154.074570</td>\n",
       "      <td>147.882762</td>\n",
       "      <td>144.401245</td>\n",
       "    </tr>\n",
       "  </tbody>\n",
       "</table>\n",
       "</div>"
      ],
      "text/plain": [
       "              high          low         open        Close        volume  \\\n",
       "count  4511.000000  4511.000000  4511.000000  4511.000000  4.511000e+03   \n",
       "mean     37.576318    36.823572    37.200643    37.205834  1.227037e+08   \n",
       "std      35.182853    34.445349    34.809058    34.815612  1.505469e+08   \n",
       "min       4.221676     4.017691     4.096396     4.112087  1.584340e+05   \n",
       "25%      12.826547    12.538752    12.695290    12.676859  3.014000e+07   \n",
       "50%      23.112617    22.821959    23.021212    22.988832  6.859214e+07   \n",
       "75%      53.558750    52.362125    52.915998    53.011000  1.530796e+08   \n",
       "max     152.100006   149.887497   151.863495   150.709000  1.650833e+09   \n",
       "\n",
       "         adj_close           OBV  14 period RSI     BB_UPPER    BB_MIDDLE  \\\n",
       "count  4511.000000  4.511000e+03    4511.000000  4511.000000  4511.000000   \n",
       "mean     37.205834  2.016020e+10      54.217064    39.072900    36.990104   \n",
       "std      34.815612  3.846793e+09      12.633815    36.664160    34.684090   \n",
       "min       4.112087 -8.102176e+08      21.330543     4.602334     3.816469   \n",
       "25%      12.676859  1.919959e+10      44.767545    13.464443    12.686246   \n",
       "50%      22.988832  2.112246e+10      53.936424    23.350873    22.487651   \n",
       "75%      53.011000  2.180190e+10      63.436345    55.625090    52.866928   \n",
       "max     150.709000  2.668921e+10      90.929456   154.074570   147.882762   \n",
       "\n",
       "          BB_LOWER  \n",
       "count  4511.000000  \n",
       "mean     34.907309  \n",
       "std      32.755789  \n",
       "min       2.743964  \n",
       "25%      11.697362  \n",
       "50%      21.638335  \n",
       "75%      50.030339  \n",
       "max     144.401245  "
      ]
     },
     "execution_count": 4,
     "metadata": {},
     "output_type": "execute_result"
    }
   ],
   "source": [
    "rsi = TA.RSI(df_GOOG)\n",
    "obv = TA.OBV(df_GOOG)\n",
    "bbands = TA.BBANDS(df_GOOG, 21)\n",
    "\n",
    "df_GOOG['OBV'] = obv.values\n",
    "df_GOOG = pd.concat([df_GOOG, rsi], axis = 1)\n",
    "df_GOOG = pd.concat([df_GOOG, bbands], axis = 1)\n",
    "df_GOOG = df_GOOG.dropna()\n",
    "df_GOOG.describe()"
   ]
  },
  {
   "cell_type": "markdown",
   "metadata": {},
   "source": [
    "### Visualizing the data"
   ]
  },
  {
   "cell_type": "code",
   "execution_count": 5,
   "metadata": {},
   "outputs": [
    {
     "data": {
      "image/png": "[encoded data removed]",
      "text/plain": [
       "<Figure size 432x288 with 2 Axes>"
      ]
     },
     "metadata": {
      "needs_background": "light"
     },
     "output_type": "display_data"
    }
   ],
   "source": [
    "sns.set (rc = {'figure.figsize':(12, 8)})\n",
    "sns.heatmap(df_GOOG.corr(), annot=True,fmt='.2f');"
   ]
  },
  {
   "cell_type": "markdown",
   "metadata": {},
   "source": [
    "As expected most variables are highly correlated to each other. Exceptions are made by the RSI, which is understandable given that it is more linked to the future price rather than the current one."
   ]
  },
  {
   "cell_type": "code",
   "execution_count": 6,
   "metadata": {},
   "outputs": [
    {
     "data": {
      "image/png": "[encoded data removed]",
      "text/plain": [
       "<Figure size 1080x360 with 1 Axes>"
      ]
     },
     "metadata": {
      "needs_background": "light"
     },
     "output_type": "display_data"
    }
   ],
   "source": [
    "# Visualising the results\n",
    "plt.figure(2, figsize=(15,5))\n",
    "plt.plot(df_GOOG.loc[:, ['adj_close']].values, color = \"red\", label = \"Google Stock Price\")\n",
    "plt.title('Google Stock Price Prediction')\n",
    "plt.xlabel('Time')\n",
    "plt.ylabel('Google Stock Price')\n",
    "plt.legend()\n",
    "plt.show()"
   ]
  },
  {
   "cell_type": "code",
   "execution_count": 7,
   "metadata": {},
   "outputs": [],
   "source": [
    "# split a multivariate sequence into samples\n",
    "def split_sequences(sequences, n_steps):\n",
    "\tX, y = list(), list()\n",
    "\tfor i in range(len(sequences)):\n",
    "\t\t# find the end of this pattern\n",
    "\t\tend_ix = i + n_steps\n",
    "\t\t# check if we are beyond the dataset\n",
    "\t\tif end_ix > len(sequences):\n",
    "\t\t\tbreak\n",
    "\t\t# gather input and output parts of the pattern\n",
    "\t\tseq_x, seq_y = sequences[i:end_ix, :-1], sequences[end_ix-1, -1]\n",
    "\t\tX.append(seq_x)\n",
    "\t\ty.append(seq_y)\n",
    "\treturn np.array(X), np.array(y)\n",
    "\n"
   ]
  },
  {
   "cell_type": "markdown",
   "metadata": {},
   "source": [
    "# Basic model"
   ]
  },
  {
   "cell_type": "code",
   "execution_count": 14,
   "metadata": {},
   "outputs": [],
   "source": [
    "def data_preprocessing(df, days_prior, split, type='lag'):\n",
    "    '''\n",
    "    Description:\n",
    "    A method to pre-process a given dataframe to be ready for LSTM analysis. The process includes:\n",
    "    - Splitting the dataset into training and test into a pre-determined ratio\n",
    "    - Normalizing both datasets\n",
    "    - Converting each dataset into a tensor, looking back to the specified amount of days\n",
    "    - Defining an inverse normalizer feature for later in the analysis\n",
    "\n",
    "    Inputs:\n",
    "    df - the dataframe to be pre-processed\n",
    "    days_prior - the days to look back to\n",
    "    split - the ratio split of test and train\n",
    "\n",
    "    Outputs\n",
    "    X_train - Predictive variables train set \n",
    "    X_test - Predictive variables train set\n",
    "    y_train - Predicted variable train set\n",
    "    y_test - Predicted variable test set\n",
    "    y_normaliser - inverse normalizer feature\n",
    "\n",
    "    '''\n",
    "\n",
    "    #Reseting index and removing unnecessary columns\n",
    "    df = df.reset_index()\n",
    "    df = df.drop(['Date'], axis=1)\n",
    "\n",
    "\n",
    "\n",
    "    #Calculate the index of split\n",
    "    split_index = int(df.shape[0] * split)\n",
    "\n",
    "    if(type=='lag'):\n",
    "        df = df.reindex(columns=['high', 'low', 'open', 'Close', 'volume', 'OBV', '14 period RSI', 'BB_UPPER', \n",
    "                                    'BB_MIDDLE', 'BB_LOWER', 'adj_close'])\n",
    "        #Split data\n",
    "        train_data = df[:split_index]\n",
    "        test_data = df[split_index:]\n",
    "\n",
    "        #Normalize the variables\n",
    "        normaliser = preprocessing.MinMaxScaler(feature_range=(0,1))\n",
    "        #Creating a specific scaler for the y values\n",
    "        y_normaliser = preprocessing.MinMaxScaler(feature_range=(0,1))\n",
    "        train_normalised = normaliser.fit_transform(train_data)\n",
    "        X_train, y_train = split_sequences(train_normalised, days_prior)\n",
    "\n",
    "        #x_train_normalised = np.delete(train_normalised, np.s_[4], 1)\n",
    "        #y_train_normalised = train_normalised[:,4]\n",
    "        test_normalised = normaliser.transform(test_data)\n",
    "\n",
    "        X_test, y_test = split_sequences(test_normalised, days_prior)\n",
    "        #x_test_normalised = np.delete(test_normalised, np.s_[4], 1)\n",
    "        y_norm = y_normaliser.fit_transform(train_data.loc[:, ['adj_close']].values)\n",
    "        y_test_norm = y_normaliser.transform(test_data.loc[:, ['adj_close']].values)\n",
    "\n",
    "        # #Prepare train datasets by \n",
    "        # X_train = []\n",
    "        # y_train = []\n",
    "\n",
    "        # for i in range(days_prior, train_data.shape[0]):\n",
    "        #     X_train.append(x_train_normalised[i-days_prior:i,0])\n",
    "        #     y_train.append(y_train_normalised[i])\n",
    "        # X_train, y_train = np.array(X_train), np.array(y_train)\n",
    "        # X_train = np.reshape(X_train, (X_train.shape[0], X_train.shape[1], 1))\n",
    "\n",
    "        # X_test = []\n",
    "        # for i in range(days_prior, test_data.shape[0]):\n",
    "        #     X_test.append(x_test_normalised[i-days_prior:i,0])\n",
    "        # X_test = np.array(X_test)\n",
    "        # X_test = np.reshape(X_test, (X_test.shape[0], X_test.shape[1], 1))\n",
    "\n",
    "    elif(type=='difference'):\n",
    "\n",
    "        df['high_diff'] = 0\n",
    "        df['low_diff'] = 0\n",
    "        df['open_diff'] = 0\n",
    "        df['volume_diff'] = 0\n",
    "        df['close_diff'] = 0\n",
    "        df['adj_close_diff'] = 0\n",
    "        df['OBV_diff'] = 0\n",
    "        df['14 period RSI_diff'] = 0\n",
    "        df['BB_UPPER_diff'] = 0\n",
    "        df['BB_MIDDLE_diff'] = 0\n",
    "        df['BB_LOWER_diff'] = 0\n",
    "\n",
    "        for i in range(df.shape[0]):\n",
    "            if i == 0:\n",
    "                df['high_diff'].iloc[i] = df['high'].iloc[i]\n",
    "                df['low_diff'].iloc[i] = df['low'].iloc[i]\n",
    "                df['open_diff'].iloc[i] = df['open'].iloc[i]\n",
    "                df['volume_diff'].iloc[i] = df['volume'].iloc[i]\n",
    "                df['close_diff'].iloc[i] = df['Close'].iloc[i]\n",
    "                df['adj_close_diff'].iloc[i] = df['adj_close'].iloc[i]\n",
    "                df['OBV_diff'].iloc[i] = df['OBV'].iloc[i]\n",
    "                df['14 period RSI_diff'].iloc[i] = df['14 period RSI'].iloc[i]\n",
    "                df['BB_UPPER_diff'].iloc[i] = df['BB_UPPER'].iloc[i]\n",
    "                df['BB_MIDDLE_diff'].iloc[i] = df['BB_MIDDLE'].iloc[i]\n",
    "                df['BB_LOWER_diff'].iloc[i] = df['BB_LOWER'].iloc[i]\n",
    "            else:\n",
    "                df['high_diff'].iloc[i] = df['high'].iloc[i] - df['high'].iloc[i - 1]\n",
    "                df['low_diff'].iloc[i] = df['low'].iloc[i] - df['low'].iloc[i - 1]\n",
    "                df['open_diff'].iloc[i] = df['open'].iloc[i] - df['open'].iloc[i - 1]\n",
    "                df['volume_diff'].iloc[i] = df['volume'].iloc[i] - df['volume'].iloc[i - 1]\n",
    "                df['close_diff'].iloc[i] = df['Close'].iloc[i] - df['Close'].iloc[i - 1]\n",
    "                df['adj_close_diff'].iloc[i] = df['adj_close'].iloc[i] - df['adj_close'].iloc[i - 1]\n",
    "                df['OBV_diff'].iloc[i] = df['OBV'].iloc[i] - df['OBV'].iloc[i - 1]\n",
    "                df['14 period RSI_diff'].iloc[i] = df['14 period RSI'].iloc[i] - df['14 period RSI'].iloc[i - 1]\n",
    "                df['BB_UPPER_diff'].iloc[i] = df['BB_UPPER'].iloc[i] - df['BB_UPPER'].iloc[i - 1]\n",
    "                df['BB_MIDDLE_diff'].iloc[i] = df['BB_MIDDLE'].iloc[i] - df['BB_MIDDLE'].iloc[i - 1]\n",
    "                df['BB_LOWER_diff'].iloc[i] = df['BB_LOWER'].iloc[i] - df['BB_LOWER'].iloc[i - 1]\n",
    "\n",
    "\n",
    "        df = df.drop(['high', 'low', 'open', 'volume', 'adj_close', 'Close', 'OBV', '14 period RSI', 'BB_UPPER', 'BB_MIDDLE', 'BB_LOWER'], axis=1)\n",
    "        df = df[1:]\n",
    "        df = df.reindex(columns=['high_diff', 'low_diff', 'open_diff', 'close_diff', 'volume_diff', 'OBV_diff', '14 period RSI_diff', 'BB_UPPER_diff', \n",
    "                                'BB_MIDDLE_diff', 'BB_LOWER_diff', 'adj_close_diff'])\n",
    "                                \n",
    "        train_data = df[:split_index]  \n",
    "        test_data = df[split_index:]\n",
    "\n",
    "        #Normalize the variables\n",
    "        normaliser = preprocessing.MinMaxScaler(feature_range=(-1,1))\n",
    "        #Creating a specific scaler for the y values\n",
    "        y_normaliser = preprocessing.MinMaxScaler(feature_range=(-1,1))\n",
    "        train_normalised = normaliser.fit_transform(train_data)\n",
    "        X_train, y_train = split_sequences(train_normalised, days_prior)\n",
    "\n",
    "        #x_train_normalised = np.delete(train_normalised, np.s_[4], 1)\n",
    "        #y_train_normalised = train_normalised[:,4]\n",
    "        test_normalised = normaliser.transform(test_data)\n",
    "        X_test, y_test = split_sequences(test_normalised, days_prior)\n",
    "\n",
    "        #x_test_normalised = np.delete(test_normalised, np.s_[4], 1)\n",
    "        y_norm = y_normaliser.fit_transform(train_data.loc[:, ['adj_close_diff']].values)\n",
    "        y_test_norm = y_normaliser.transform(test_data.loc[:, ['adj_close_diff']].values)\n",
    "\n",
    "        # X_train = []\n",
    "        # y_train = []\n",
    "\n",
    "        # for i in range(days_prior, train_data.shape[0]):\n",
    "        #     X_train.append(x_train_normalised[i-days_prior:i,0])\n",
    "        #     y_train.append(y_train_normalised[i])\n",
    "        # X_train, y_train = np.array(X_train), np.array(y_train)\n",
    "        # X_train = np.reshape(X_train, (X_train.shape[0], X_train.shape[1], 1))\n",
    "\n",
    "        # X_test = []\n",
    "        # for i in range(days_prior, test_data.shape[0]):\n",
    "        #     X_test.append(x_test_normalised[i-days_prior:i,0])\n",
    "        # X_test = np.array(X_test)\n",
    "        # X_test = np.reshape(X_test, (X_test.shape[0], X_test.shape[1], 1))\n",
    "\n",
    "    \n",
    "    # train_arr = np.diff(train_data.loc[:, ['adj_close']].values, axis = 0)\n",
    "    # X_train = np.array([train_normalised[i : i + days_prior] for i in range(len(train_normalised) - days_prior)])\n",
    "    # y_train = np.array([train_arr[i + days_prior] for i in range(len(train_arr) - days_prior)])\n",
    "\n",
    "    # test_arr = np.diff(test_data.loc[:, ['adj_close']].values, axis = 0)\n",
    "    # X_test = np.array([test_normalised[i : i + days_prior] for i in range(len(test_normalised) - days_prior)])\n",
    "    # y_test = np.array([test_arr[i + days_prior] for i in range(len(test_arr) - days_prior)])\n",
    "\n",
    "    # y_normaliser = preprocessing.MinMaxScaler()\n",
    "    # next_day_close_values = np.array([train_data['adj_close'][i + days_prior].copy() for i in range(len(train_data) - days_prior)])\n",
    "    # next_day_close_values = np.expand_dims(next_day_close_values, -1)\n",
    "    # y_normaliser.fit(next_day_close_values)\n",
    "\n",
    "    #return X_train[:len(X_train)-1], X_test[:len(X_test)-1], y_train, y_test, y_normaliser, split_index\n",
    "    return X_train, X_test, y_train, y_test, y_test_norm, split_index, days_prior\n",
    "    \n",
    "#X_train, X_test, y_train, y_test, y_normaliser, split_index = data_preprocessing(df_GOOG, 21, 0.7)"
   ]
  },
  {
   "cell_type": "code",
   "execution_count": 8,
   "metadata": {},
   "outputs": [],
   "source": [
    "#Reseting index and removing unnecessary columns\n",
    "df = df_GOOG.reset_index()\n",
    "df = df.drop(['Date'], axis=1)\n",
    "\n",
    "\n",
    "#Calculate the index of split\n",
    "split_index = int(df.shape[0] * 0.7)\n",
    "\n",
    "# df['high_diff'] = 0\n",
    "# df['low_diff'] = 0\n",
    "# df['open_diff'] = 0\n",
    "# df['volume_diff'] = 0\n",
    "# df['close_diff'] = 0\n",
    "df['adj_close_diff'] = 0\n",
    "# df['OBV_diff'] = 0\n",
    "# df['14 period RSI_diff'] = 0\n",
    "# df['BB_UPPER_diff'] = 0\n",
    "# df['BB_MIDDLE_diff'] = 0\n",
    "# df['BB_LOWER_diff'] = 0\n",
    "\n",
    "for i in range(df.shape[0]):\n",
    "    if i == 0:\n",
    "        # df['high_diff'].iloc[i] = df['high'].iloc[i]\n",
    "        # df['low_diff'].iloc[i] = df['low'].iloc[i]\n",
    "        # df['open_diff'].iloc[i] = df['open'].iloc[i]\n",
    "        # df['volume_diff'].iloc[i] = df['volume'].iloc[i]\n",
    "        # df['close_diff'].iloc[i] = df['Close'].iloc[i]\n",
    "        df['adj_close_diff'].iloc[i] = df['adj_close'].iloc[i]\n",
    "        # df['OBV_diff'].iloc[i] = df['OBV'].iloc[i]\n",
    "        # df['14 period RSI_diff'].iloc[i] = df['14 period RSI'].iloc[i]\n",
    "        # df['BB_UPPER_diff'].iloc[i] = df['BB_UPPER'].iloc[i]\n",
    "        # df['BB_MIDDLE_diff'].iloc[i] = df['BB_MIDDLE'].iloc[i]\n",
    "        # df['BB_LOWER_diff'].iloc[i] = df['BB_LOWER'].iloc[i]\n",
    "    else:\n",
    "        # df['high_diff'].iloc[i] = df['high'].iloc[i] - df['high'].iloc[i - 1]\n",
    "        # df['low_diff'].iloc[i] = df['low'].iloc[i] - df['low'].iloc[i - 1]\n",
    "        # df['open_diff'].iloc[i] = df['open'].iloc[i] - df['open'].iloc[i - 1]\n",
    "        # df['volume_diff'].iloc[i] = df['volume'].iloc[i] - df['volume'].iloc[i - 1]\n",
    "        # df['close_diff'].iloc[i] = df['Close'].iloc[i] - df['Close'].iloc[i - 1]\n",
    "        df['adj_close_diff'].iloc[i] = df['adj_close'].iloc[i] - df['adj_close'].iloc[i - 1]\n",
    "        # df['OBV_diff'].iloc[i] = df['OBV'].iloc[i] - df['OBV'].iloc[i - 1]\n",
    "        # df['14 period RSI_diff'].iloc[i] = df['14 period RSI'].iloc[i] - df['14 period RSI'].iloc[i - 1]\n",
    "        # df['BB_UPPER_diff'].iloc[i] = df['BB_UPPER'].iloc[i] - df['BB_UPPER'].iloc[i - 1]\n",
    "        # df['BB_MIDDLE_diff'].iloc[i] = df['BB_MIDDLE'].iloc[i] - df['BB_MIDDLE'].iloc[i - 1]\n",
    "        # df['BB_LOWER_diff'].iloc[i] = df['BB_LOWER'].iloc[i] - df['BB_LOWER'].iloc[i - 1]\n",
    "\n",
    "\n",
    "#df = df.drop(['high', 'low', 'open', 'volume', 'adj_close', 'Close', 'OBV', '14 period RSI', 'BB_UPPER', 'BB_MIDDLE', 'BB_LOWER'], axis=1)\n",
    "df = df[1:]\n",
    "# df = df.reindex(columns=['high_diff', 'low_diff', 'open_diff', 'close_diff', 'volume_diff', 'OBV_diff', '14 period RSI_diff', 'BB_UPPER_diff', \n",
    "#                         'BB_MIDDLE_diff', 'BB_LOWER_diff', 'adj_close_diff'])\n",
    "df = df.drop(['adj_close'],axis=1)\n",
    "df = df.reindex(columns=['high', 'low', 'open', 'Close', 'volume', 'OBV', '14 period RSI', 'BB_UPPER', \n",
    "                        'BB_MIDDLE', 'BB_LOWER', 'adj_close_diff'])\n",
    "\n",
    "train_data = df[:split_index]  \n",
    "test_data = df[split_index:]\n",
    "\n",
    "#Normalize the variables\n",
    "normaliser = preprocessing.MinMaxScaler(feature_range=(0,1))\n",
    "#Creating a specific scaler for the y values\n",
    "y_normaliser = preprocessing.MinMaxScaler(feature_range=(0,1))\n",
    "train_normalised = normaliser.fit_transform(train_data)\n",
    "X_train, y_train = split_sequences(train_normalised, 21)\n",
    "\n",
    "#x_train_normalised = np.delete(train_normalised, np.s_[4], 1)\n",
    "#y_train_normalised = train_normalised[:,4]\n",
    "test_normalised = normaliser.transform(test_data)\n",
    "X_test, y_test = split_sequences(test_normalised, 21)\n",
    "\n",
    "#x_test_normalised = np.delete(test_normalised, np.s_[4], 1)\n",
    "y_norm = y_normaliser.fit_transform(train_data.loc[:, ['adj_close_diff']].values)\n",
    "y_test_norm = y_normaliser.transform(test_data.loc[:, ['adj_close_diff']].values)\n",
    "\n"
   ]
  },
  {
   "cell_type": "code",
   "execution_count": 103,
   "metadata": {},
   "outputs": [
    {
     "data": {
      "text/plain": [
       "array([ 0.28355161,  0.43432032,  0.25200497, ...,  0.69966315,\n",
       "       -0.09464222,  0.01176567])"
      ]
     },
     "execution_count": 103,
     "metadata": {},
     "output_type": "execute_result"
    }
   ],
   "source": [
    "y_test"
   ]
  },
  {
   "cell_type": "code",
   "execution_count": 34,
   "metadata": {},
   "outputs": [
    {
     "data": {
      "text/plain": [
       "array([[[0.9884241 , 0.97803377, 0.97785732, ..., 0.99670215,\n",
       "         1.00530489, 1.01323732],\n",
       "        [0.99376366, 0.99232402, 0.99005915, ..., 0.99401086,\n",
       "         1.01062881, 1.02760687],\n",
       "        [0.9985711 , 0.99699025, 0.99417298, ..., 0.99006871,\n",
       "         1.01631645, 1.0441714 ],\n",
       "        ...,\n",
       "        [1.02100909, 1.00544775, 1.0232148 , ..., 1.02150161,\n",
       "         1.06546178, 1.11282642],\n",
       "        [1.00026673, 0.98467146, 0.99297266, ..., 1.02152833,\n",
       "         1.06542201, 1.11271155],\n",
       "        [0.99875396, 0.99301814, 1.        , ..., 1.01896084,\n",
       "         1.06658409, 1.11809956]],\n",
       "\n",
       "       [[0.99376366, 0.99232402, 0.99005915, ..., 0.99401086,\n",
       "         1.01062881, 1.02760687],\n",
       "        [0.9985711 , 0.99699025, 0.99417298, ..., 0.99006871,\n",
       "         1.01631645, 1.0441714 ],\n",
       "        [1.00973243, 1.00582689, 1.00922999, ..., 0.98913395,\n",
       "         1.02127721, 1.0557722 ],\n",
       "        ...,\n",
       "        [1.00026673, 0.98467146, 0.99297266, ..., 1.02152833,\n",
       "         1.06542201, 1.11271155],\n",
       "        [0.99875396, 0.99301814, 1.        , ..., 1.01896084,\n",
       "         1.06658409, 1.11809956],\n",
       "        [1.0196582 , 1.01338031, 1.01160744, ..., 1.01748576,\n",
       "         1.06814795, 1.12309886]],\n",
       "\n",
       "       [[0.9985711 , 0.99699025, 0.99417298, ..., 0.99006871,\n",
       "         1.01631645, 1.0441714 ],\n",
       "        [1.00973243, 1.00582689, 1.00922999, ..., 0.98913395,\n",
       "         1.02127721, 1.0557722 ],\n",
       "        [1.01395177, 1.01390524, 1.01512689, ..., 0.98934687,\n",
       "         1.02604199, 1.06565167],\n",
       "        ...,\n",
       "        [0.99875396, 0.99301814, 1.        , ..., 1.01896084,\n",
       "         1.06658409, 1.11809956],\n",
       "        [1.0196582 , 1.01338031, 1.01160744, ..., 1.01748576,\n",
       "         1.06814795, 1.12309886],\n",
       "        [1.0215565 , 1.01450021, 1.02041785, ..., 1.01613854,\n",
       "         1.06910598, 1.12666587]],\n",
       "\n",
       "       ...,\n",
       "\n",
       "       [[2.4956624 , 2.44468288, 2.49241539, ..., 2.72720512,\n",
       "         2.75220777, 2.75636365],\n",
       "        [2.50497892, 2.45051565, 2.50640019, ..., 2.73849339,\n",
       "         2.74442596, 2.7269974 ],\n",
       "        [2.49216862, 2.43045092, 2.44976158, ..., 2.73988328,\n",
       "         2.73493791, 2.705262  ],\n",
       "        ...,\n",
       "        [2.24108455, 2.20157305, 2.20292926, ..., 2.50255653,\n",
       "         2.48117003, 2.43605672],\n",
       "        [2.2415503 , 2.17730872, 2.23322982, ..., 2.49731898,\n",
       "         2.46594072, 2.40966142],\n",
       "        [2.26344452, 2.18804117, 2.18917741, ..., 2.48688315,\n",
       "         2.45487325, 2.39801779]],\n",
       "\n",
       "       [[2.50497892, 2.45051565, 2.50640019, ..., 2.73849339,\n",
       "         2.74442596, 2.7269974 ],\n",
       "        [2.49216862, 2.43045092, 2.44976158, ..., 2.73988328,\n",
       "         2.73493791, 2.705262  ],\n",
       "        [2.50276636, 2.42905093, 2.49964083, ..., 2.74311676,\n",
       "         2.72319025, 2.6766303 ],\n",
       "        ...,\n",
       "        [2.2415503 , 2.17730872, 2.23322982, ..., 2.49731898,\n",
       "         2.46594072, 2.40966142],\n",
       "        [2.26344452, 2.18804117, 2.18917741, ..., 2.48688315,\n",
       "         2.45487325, 2.39801779],\n",
       "        [2.21453207, 2.15817726, 2.21901188, ..., 2.47988767,\n",
       "         2.44124642, 2.37702547]],\n",
       "\n",
       "       [[2.49216862, 2.43045092, 2.44976158, ..., 2.73988328,\n",
       "         2.73493791, 2.705262  ],\n",
       "        [2.50276636, 2.42905093, 2.49964083, ..., 2.74311676,\n",
       "         2.72319025, 2.6766303 ],\n",
       "        [2.43766604, 2.39125472, 2.42493862, ..., 2.7476078 ,\n",
       "         2.71080852, 2.64522173],\n",
       "        ...,\n",
       "        [2.26344452, 2.18804117, 2.18917741, ..., 2.48688315,\n",
       "         2.45487325, 2.39801779],\n",
       "        [2.21453207, 2.15817726, 2.21901188, ..., 2.47988767,\n",
       "         2.44124642, 2.37702547],\n",
       "        [2.21905066, 2.14674509, 2.18241823, ..., 2.47652765,\n",
       "         2.42625922, 2.34900955]]])"
      ]
     },
     "execution_count": 34,
     "metadata": {},
     "output_type": "execute_result"
    }
   ],
   "source": [
    "X_test"
   ]
  },
  {
   "cell_type": "code",
   "execution_count": 9,
   "metadata": {},
   "outputs": [
    {
     "data": {
      "text/html": [
       "<div>\n",
       "<style scoped>\n",
       "    .dataframe tbody tr th:only-of-type {\n",
       "        vertical-align: middle;\n",
       "    }\n",
       "\n",
       "    .dataframe tbody tr th {\n",
       "        vertical-align: top;\n",
       "    }\n",
       "\n",
       "    .dataframe thead th {\n",
       "        text-align: right;\n",
       "    }\n",
       "</style>\n",
       "<table border=\"1\" class=\"dataframe\">\n",
       "  <thead>\n",
       "    <tr style=\"text-align: right;\">\n",
       "      <th></th>\n",
       "      <th>high</th>\n",
       "      <th>low</th>\n",
       "      <th>open</th>\n",
       "      <th>Close</th>\n",
       "      <th>volume</th>\n",
       "      <th>OBV</th>\n",
       "      <th>14 period RSI</th>\n",
       "      <th>BB_UPPER</th>\n",
       "      <th>BB_MIDDLE</th>\n",
       "      <th>BB_LOWER</th>\n",
       "      <th>adj_close_diff</th>\n",
       "    </tr>\n",
       "  </thead>\n",
       "  <tbody>\n",
       "    <tr>\n",
       "      <th>1</th>\n",
       "      <td>4.923296</td>\n",
       "      <td>4.763894</td>\n",
       "      <td>4.820681</td>\n",
       "      <td>4.882449</td>\n",
       "      <td>490828877.0</td>\n",
       "      <td>3.972924e+09</td>\n",
       "      <td>80.521934</td>\n",
       "      <td>5.032264</td>\n",
       "      <td>3.891722</td>\n",
       "      <td>2.751181</td>\n",
       "      <td>0.134246</td>\n",
       "    </tr>\n",
       "    <tr>\n",
       "      <th>2</th>\n",
       "      <td>4.962649</td>\n",
       "      <td>4.815451</td>\n",
       "      <td>4.950943</td>\n",
       "      <td>4.853558</td>\n",
       "      <td>455553149.0</td>\n",
       "      <td>3.517371e+09</td>\n",
       "      <td>79.028080</td>\n",
       "      <td>5.149674</td>\n",
       "      <td>3.962659</td>\n",
       "      <td>2.775644</td>\n",
       "      <td>-0.028891</td>\n",
       "    </tr>\n",
       "    <tr>\n",
       "      <th>3</th>\n",
       "      <td>5.021179</td>\n",
       "      <td>4.750942</td>\n",
       "      <td>4.935999</td>\n",
       "      <td>4.773856</td>\n",
       "      <td>557630330.0</td>\n",
       "      <td>2.959740e+09</td>\n",
       "      <td>74.899848</td>\n",
       "      <td>5.238520</td>\n",
       "      <td>4.025874</td>\n",
       "      <td>2.813228</td>\n",
       "      <td>-0.079702</td>\n",
       "    </tr>\n",
       "    <tr>\n",
       "      <th>4</th>\n",
       "      <td>4.742225</td>\n",
       "      <td>4.566633</td>\n",
       "      <td>4.693408</td>\n",
       "      <td>4.600257</td>\n",
       "      <td>578544429.0</td>\n",
       "      <td>2.381196e+09</td>\n",
       "      <td>66.724069</td>\n",
       "      <td>5.285793</td>\n",
       "      <td>4.082353</td>\n",
       "      <td>2.878913</td>\n",
       "      <td>-0.173599</td>\n",
       "    </tr>\n",
       "    <tr>\n",
       "      <th>5</th>\n",
       "      <td>4.540481</td>\n",
       "      <td>4.198015</td>\n",
       "      <td>4.532511</td>\n",
       "      <td>4.217940</td>\n",
       "      <td>796297573.0</td>\n",
       "      <td>1.584898e+09</td>\n",
       "      <td>53.002467</td>\n",
       "      <td>5.288380</td>\n",
       "      <td>4.118527</td>\n",
       "      <td>2.948674</td>\n",
       "      <td>-0.382317</td>\n",
       "    </tr>\n",
       "    <tr>\n",
       "      <th>...</th>\n",
       "      <td>...</td>\n",
       "      <td>...</td>\n",
       "      <td>...</td>\n",
       "      <td>...</td>\n",
       "      <td>...</td>\n",
       "      <td>...</td>\n",
       "      <td>...</td>\n",
       "      <td>...</td>\n",
       "      <td>...</td>\n",
       "      <td>...</td>\n",
       "      <td>...</td>\n",
       "    </tr>\n",
       "    <tr>\n",
       "      <th>4506</th>\n",
       "      <td>100.440002</td>\n",
       "      <td>98.379997</td>\n",
       "      <td>98.610001</td>\n",
       "      <td>98.809998</td>\n",
       "      <td>22437900.0</td>\n",
       "      <td>2.305140e+10</td>\n",
       "      <td>28.858189</td>\n",
       "      <td>115.266050</td>\n",
       "      <td>106.376667</td>\n",
       "      <td>97.487285</td>\n",
       "      <td>-0.360001</td>\n",
       "    </tr>\n",
       "    <tr>\n",
       "      <th>4507</th>\n",
       "      <td>100.459999</td>\n",
       "      <td>97.339996</td>\n",
       "      <td>99.910004</td>\n",
       "      <td>98.089996</td>\n",
       "      <td>24225000.0</td>\n",
       "      <td>2.302717e+10</td>\n",
       "      <td>27.852162</td>\n",
       "      <td>115.034444</td>\n",
       "      <td>105.747619</td>\n",
       "      <td>96.460795</td>\n",
       "      <td>-0.720001</td>\n",
       "    </tr>\n",
       "    <tr>\n",
       "      <th>4508</th>\n",
       "      <td>101.400002</td>\n",
       "      <td>97.800003</td>\n",
       "      <td>98.019997</td>\n",
       "      <td>100.739998</td>\n",
       "      <td>24617000.0</td>\n",
       "      <td>2.305179e+10</td>\n",
       "      <td>36.611095</td>\n",
       "      <td>114.572969</td>\n",
       "      <td>105.290476</td>\n",
       "      <td>96.007984</td>\n",
       "      <td>2.650002</td>\n",
       "    </tr>\n",
       "    <tr>\n",
       "      <th>4509</th>\n",
       "      <td>99.300003</td>\n",
       "      <td>96.519997</td>\n",
       "      <td>99.300003</td>\n",
       "      <td>98.089996</td>\n",
       "      <td>21921500.0</td>\n",
       "      <td>2.302987e+10</td>\n",
       "      <td>32.377961</td>\n",
       "      <td>114.263627</td>\n",
       "      <td>104.727619</td>\n",
       "      <td>95.191611</td>\n",
       "      <td>-2.650002</td>\n",
       "    </tr>\n",
       "    <tr>\n",
       "      <th>4510</th>\n",
       "      <td>99.494003</td>\n",
       "      <td>96.029999</td>\n",
       "      <td>97.730003</td>\n",
       "      <td>96.150002</td>\n",
       "      <td>26248200.0</td>\n",
       "      <td>2.300362e+10</td>\n",
       "      <td>29.673063</td>\n",
       "      <td>114.115046</td>\n",
       "      <td>104.108571</td>\n",
       "      <td>94.102097</td>\n",
       "      <td>-1.939995</td>\n",
       "    </tr>\n",
       "  </tbody>\n",
       "</table>\n",
       "<p>4510 rows × 11 columns</p>\n",
       "</div>"
      ],
      "text/plain": [
       "            high        low       open       Close       volume           OBV  \\\n",
       "1       4.923296   4.763894   4.820681    4.882449  490828877.0  3.972924e+09   \n",
       "2       4.962649   4.815451   4.950943    4.853558  455553149.0  3.517371e+09   \n",
       "3       5.021179   4.750942   4.935999    4.773856  557630330.0  2.959740e+09   \n",
       "4       4.742225   4.566633   4.693408    4.600257  578544429.0  2.381196e+09   \n",
       "5       4.540481   4.198015   4.532511    4.217940  796297573.0  1.584898e+09   \n",
       "...          ...        ...        ...         ...          ...           ...   \n",
       "4506  100.440002  98.379997  98.610001   98.809998   22437900.0  2.305140e+10   \n",
       "4507  100.459999  97.339996  99.910004   98.089996   24225000.0  2.302717e+10   \n",
       "4508  101.400002  97.800003  98.019997  100.739998   24617000.0  2.305179e+10   \n",
       "4509   99.300003  96.519997  99.300003   98.089996   21921500.0  2.302987e+10   \n",
       "4510   99.494003  96.029999  97.730003   96.150002   26248200.0  2.300362e+10   \n",
       "\n",
       "      14 period RSI    BB_UPPER   BB_MIDDLE   BB_LOWER  adj_close_diff  \n",
       "1         80.521934    5.032264    3.891722   2.751181        0.134246  \n",
       "2         79.028080    5.149674    3.962659   2.775644       -0.028891  \n",
       "3         74.899848    5.238520    4.025874   2.813228       -0.079702  \n",
       "4         66.724069    5.285793    4.082353   2.878913       -0.173599  \n",
       "5         53.002467    5.288380    4.118527   2.948674       -0.382317  \n",
       "...             ...         ...         ...        ...             ...  \n",
       "4506      28.858189  115.266050  106.376667  97.487285       -0.360001  \n",
       "4507      27.852162  115.034444  105.747619  96.460795       -0.720001  \n",
       "4508      36.611095  114.572969  105.290476  96.007984        2.650002  \n",
       "4509      32.377961  114.263627  104.727619  95.191611       -2.650002  \n",
       "4510      29.673063  114.115046  104.108571  94.102097       -1.939995  \n",
       "\n",
       "[4510 rows x 11 columns]"
      ]
     },
     "execution_count": 9,
     "metadata": {},
     "output_type": "execute_result"
    }
   ],
   "source": [
    "df"
   ]
  },
  {
   "cell_type": "code",
   "execution_count": 28,
   "metadata": {},
   "outputs": [
    {
     "data": {
      "text/plain": [
       "(3137, 21, 10)"
      ]
     },
     "execution_count": 28,
     "metadata": {},
     "output_type": "execute_result"
    }
   ],
   "source": [
    "X_train.shape"
   ]
  },
  {
   "cell_type": "code",
   "execution_count": 96,
   "metadata": {},
   "outputs": [],
   "source": [
    "def build_lstm(X_train, y_train):\n",
    "    model = Sequential()\n",
    "    #Adding the first LSTM layer and some Dropout regularisation\n",
    "    model.add(LSTM(units = 70, return_sequences = True, input_shape = (X_train.shape[1], 10)))\n",
    "    model.add(Dropout(0.2))\n",
    "    # Adding a second LSTM layer and some Dropout regularisation\n",
    "    model.add(LSTM(units = 70, return_sequences = True))\n",
    "    model.add(Dropout(0.2))\n",
    "    # Adding a third LSTM layer and some Dropout regularisation\n",
    "    model.add(LSTM(units = 70, return_sequences = True))\n",
    "    model.add(Dropout(0.2))\n",
    "    # Adding a fourth LSTM layer and some Dropout regularisation\n",
    "    model.add(LSTM(units = 70))\n",
    "    model.add(Dropout(0.2))\n",
    "    # Adding the output layer\n",
    "    model.add(Dense(units = 1))\n",
    "    model.add(Activation('relu'))\n",
    "\n",
    "    # Compiling the RNN\n",
    "    model.compile(optimizer = 'adam', loss = 'mean_squared_error')\n",
    "\n",
    "    # Fitting the RNN to the Training set\n",
    "    model.fit(X_train, y_train, epochs = 25, batch_size = 32)\n",
    "\n",
    "    return model\n"
   ]
  },
  {
   "cell_type": "code",
   "execution_count": 10,
   "metadata": {},
   "outputs": [],
   "source": [
    "def build_lstm1(X_train, y_train):\n",
    "    model = Sequential()\n",
    "    # Adding an LSTM layer and some Dropout regularisation\n",
    "    model.add(LSTM(units = 70, return_sequences = True))\n",
    "    model.add(Dropout(0.2))\n",
    "    # Adding a third LSTM layer and some Dropout regularisation\n",
    "    model.add(LSTM(units = 70, return_sequences = True))\n",
    "    model.add(Dropout(0.2))\n",
    "    # Adding a fourth LSTM layer and some Dropout regularisation\n",
    "    model.add(LSTM(units = 70))\n",
    "    model.add(Dropout(0.2))\n",
    "    # Adding the output layer\n",
    "    model.add(Dense(units = 1))\n",
    "    model.add(Activation('relu'))\n",
    "\n",
    "    # Compiling the RNN\n",
    "    model.compile(optimizer = 'adam', loss = 'mean_squared_error')\n",
    "\n",
    "    # Fitting the RNN to the Training set\n",
    "    model.fit(X_train, y_train, epochs = 25, batch_size = 32)\n",
    "\n",
    "    return model"
   ]
  },
  {
   "cell_type": "markdown",
   "metadata": {},
   "source": [
    "#### Lag model"
   ]
  },
  {
   "cell_type": "code",
   "execution_count": 19,
   "metadata": {},
   "outputs": [
    {
     "name": "stdout",
     "output_type": "stream",
     "text": [
      "Epoch 1/25\n",
      "99/99 [==============================] - 8s 26ms/step - loss: 0.0074\n",
      "Epoch 2/25\n",
      "99/99 [==============================] - 3s 25ms/step - loss: 0.0021\n",
      "Epoch 3/25\n",
      "99/99 [==============================] - 2s 25ms/step - loss: 0.0016\n",
      "Epoch 4/25\n",
      "99/99 [==============================] - 3s 26ms/step - loss: 0.0017\n",
      "Epoch 5/25\n",
      "99/99 [==============================] - 3s 26ms/step - loss: 0.0022\n",
      "Epoch 6/25\n",
      "99/99 [==============================] - 2s 25ms/step - loss: 0.0012\n",
      "Epoch 7/25\n",
      "99/99 [==============================] - 3s 26ms/step - loss: 0.0012\n",
      "Epoch 8/25\n",
      "99/99 [==============================] - 3s 25ms/step - loss: 0.0014\n",
      "Epoch 9/25\n",
      "99/99 [==============================] - 2s 25ms/step - loss: 0.0018\n",
      "Epoch 10/25\n",
      "99/99 [==============================] - 3s 25ms/step - loss: 9.6827e-04\n",
      "Epoch 11/25\n",
      "99/99 [==============================] - 2s 25ms/step - loss: 0.0010\n",
      "Epoch 12/25\n",
      "99/99 [==============================] - 3s 25ms/step - loss: 9.9861e-04\n",
      "Epoch 13/25\n",
      "99/99 [==============================] - 3s 26ms/step - loss: 0.0013\n",
      "Epoch 14/25\n",
      "99/99 [==============================] - 2s 25ms/step - loss: 7.8623e-04\n",
      "Epoch 15/25\n",
      "99/99 [==============================] - 3s 26ms/step - loss: 9.0158e-04\n",
      "Epoch 16/25\n",
      "99/99 [==============================] - 3s 26ms/step - loss: 7.8103e-04\n",
      "Epoch 17/25\n",
      "99/99 [==============================] - 3s 26ms/step - loss: 0.0015\n",
      "Epoch 18/25\n",
      "99/99 [==============================] - 3s 25ms/step - loss: 8.1966e-04\n",
      "Epoch 19/25\n",
      "99/99 [==============================] - 3s 25ms/step - loss: 8.3150e-04\n",
      "Epoch 20/25\n",
      "99/99 [==============================] - 3s 26ms/step - loss: 7.8967e-04\n",
      "Epoch 21/25\n",
      "99/99 [==============================] - 3s 25ms/step - loss: 7.1304e-04\n",
      "Epoch 22/25\n",
      "99/99 [==============================] - 2s 25ms/step - loss: 6.9260e-04\n",
      "Epoch 23/25\n",
      "99/99 [==============================] - 3s 25ms/step - loss: 6.2107e-04\n",
      "Epoch 24/25\n",
      "99/99 [==============================] - 2s 25ms/step - loss: 6.8524e-04\n",
      "Epoch 25/25\n",
      "99/99 [==============================] - 2s 25ms/step - loss: 6.4821e-04\n",
      "42/42 [==============================] - 2s 13ms/step\n"
     ]
    }
   ],
   "source": [
    "X_train, X_test, y_train, y_test, y_test_norm, split_index, days_prior = data_preprocessing(df_GOOG, 21, 0.7, 'lag')\n",
    "model = build_lstm(X_train, y_train)\n",
    "predicted_stock_price = model.predict(X_test)\n"
   ]
  },
  {
   "cell_type": "code",
   "execution_count": 25,
   "metadata": {},
   "outputs": [
    {
     "data": {
      "image/png": "[encoded data removed]",
      "text/plain": [
       "<Figure size 1080x576 with 1 Axes>"
      ]
     },
     "metadata": {
      "needs_background": "light"
     },
     "output_type": "display_data"
    },
    {
     "name": "stdout",
     "output_type": "stream",
     "text": [
      "0.9658577080258627\n"
     ]
    }
   ],
   "source": [
    "# Visualising the results\n",
    "plt.figure(figsize=(15,8))\n",
    "plt.plot(y_test_norm, color = \"red\", label = \"Real Price - scaled\")\n",
    "plt.plot(predicted_stock_price, color = \"blue\", label = \"Predicted Price - scaled\")\n",
    "plt.title('Google Stock Price Prediction')\n",
    "plt.xlabel('Time range')\n",
    "plt.ylabel('Google Stock Price')\n",
    "plt.legend()\n",
    "plt.show()\n",
    "print(mean_squared_error(y_test_norm[:-20], predicted_stock_price, squared = False))"
   ]
  },
  {
   "cell_type": "markdown",
   "metadata": {},
   "source": [
    "Even though the MSE of the model is at 96%, it can be seen that it has done a relatively decent job at predicting the direction at which the stock is going. However, technical indicators have performed relatively well up until the drop in 2020. Afterwards, it can be observed that the techincal indicators lose track of the rapid increase of stock. This serves as proof that there are other factors influencing the rise of the stock - either other technical indicators or external factors like media hype, FOMO etc."
   ]
  },
  {
   "cell_type": "markdown",
   "metadata": {},
   "source": [
    "Another attempt will be made. This time, however, the difference in price between consecutive days will be predicted with the hope that it will cover for some of the disadvantages of the lag model"
   ]
  },
  {
   "cell_type": "code",
   "execution_count": 13,
   "metadata": {},
   "outputs": [
    {
     "data": {
      "image/png": "[encoded data removed]",
      "text/plain": [
       "<Figure size 432x288 with 1 Axes>"
      ]
     },
     "metadata": {
      "needs_background": "light"
     },
     "output_type": "display_data"
    },
    {
     "name": "stdout",
     "output_type": "stream",
     "text": [
      "82.71142377868571\n"
     ]
    }
   ],
   "source": [
    "# Visualising the results\n",
    "plt.plot(df_GOOG[split_index:-days_prior].loc[:, ['adj_close']].values, color = \"red\", label = \"Real Google Stock Price\")\n",
    "plt.plot(predicted_stock_price - 105, color = \"blue\", label = \"Predicted Google Stock Price\")\n",
    "plt.title('Google Stock Price Prediction')\n",
    "plt.xlabel('Time')\n",
    "plt.ylabel('TESLA Stock Price')\n",
    "plt.legend()\n",
    "plt.show()\n",
    "print(mean_squared_error(df_GOOG[split_index:-20].loc[:, ['adj_close']].values, predicted_stock_price, squared = False))"
   ]
  },
  {
   "cell_type": "markdown",
   "metadata": {},
   "source": [
    "As it can be seen, the model performs well until around timestep 850. Afterwards, however, it is not following the rising trend of the stock. This can serve as an indication that in this time period there are other influences for the stock to rise. We will explore a second model which calculates the stock price change day-to-day to observe if it will perform better."
   ]
  },
  {
   "cell_type": "markdown",
   "metadata": {},
   "source": [
    "#### Difference model"
   ]
  },
  {
   "cell_type": "code",
   "execution_count": 11,
   "metadata": {},
   "outputs": [
    {
     "name": "stdout",
     "output_type": "stream",
     "text": [
      "Epoch 1/25\n",
      "99/99 [==============================] - 7s 20ms/step - loss: 0.0058\n",
      "Epoch 2/25\n",
      "99/99 [==============================] - 2s 19ms/step - loss: 0.0031\n",
      "Epoch 3/25\n",
      "99/99 [==============================] - 2s 21ms/step - loss: 0.0029\n",
      "Epoch 4/25\n",
      "99/99 [==============================] - 2s 19ms/step - loss: 0.0028\n",
      "Epoch 5/25\n",
      "99/99 [==============================] - 2s 21ms/step - loss: 0.0028\n",
      "Epoch 6/25\n",
      "99/99 [==============================] - 2s 19ms/step - loss: 0.0027\n",
      "Epoch 7/25\n",
      "99/99 [==============================] - 2s 18ms/step - loss: 0.0026\n",
      "Epoch 8/25\n",
      "99/99 [==============================] - 2s 19ms/step - loss: 0.0027\n",
      "Epoch 9/25\n",
      "99/99 [==============================] - 2s 19ms/step - loss: 0.0026\n",
      "Epoch 10/25\n",
      "99/99 [==============================] - 2s 18ms/step - loss: 0.0025\n",
      "Epoch 11/25\n",
      "99/99 [==============================] - 2s 18ms/step - loss: 0.0026\n",
      "Epoch 12/25\n",
      "99/99 [==============================] - 2s 19ms/step - loss: 0.0027\n",
      "Epoch 13/25\n",
      "99/99 [==============================] - 2s 19ms/step - loss: 0.0026\n",
      "Epoch 14/25\n",
      "99/99 [==============================] - 2s 18ms/step - loss: 0.0025\n",
      "Epoch 15/25\n",
      "99/99 [==============================] - 2s 18ms/step - loss: 0.0025\n",
      "Epoch 16/25\n",
      "99/99 [==============================] - 2s 19ms/step - loss: 0.0026\n",
      "Epoch 17/25\n",
      "99/99 [==============================] - 2s 20ms/step - loss: 0.0025\n",
      "Epoch 18/25\n",
      "99/99 [==============================] - 2s 20ms/step - loss: 0.0024\n",
      "Epoch 19/25\n",
      "99/99 [==============================] - 2s 19ms/step - loss: 0.0025\n",
      "Epoch 20/25\n",
      "99/99 [==============================] - 2s 19ms/step - loss: 0.0024\n",
      "Epoch 21/25\n",
      "99/99 [==============================] - 2s 19ms/step - loss: 0.0024\n",
      "Epoch 22/25\n",
      "99/99 [==============================] - 2s 18ms/step - loss: 0.0024\n",
      "Epoch 23/25\n",
      "99/99 [==============================] - 2s 19ms/step - loss: 0.0024\n",
      "Epoch 24/25\n",
      "99/99 [==============================] - 2s 18ms/step - loss: 0.0024\n",
      "Epoch 25/25\n",
      "99/99 [==============================] - 2s 19ms/step - loss: 0.0024\n",
      "42/42 [==============================] - 1s 6ms/step\n"
     ]
    }
   ],
   "source": [
    "#X_train, X_test, y_train, y_test, y_test_norm, split_index, days_prior = data_preprocessing(df_GOOG, 21, 0.7, 'difference')\n",
    "model = build_lstm1(X_train, y_train)\n",
    "predicted_stock_price = model.predict(X_test)\n",
    "#predicted_stock_price = y_normaliser.inverse_transform(predicted_stock_price)"
   ]
  },
  {
   "cell_type": "code",
   "execution_count": 12,
   "metadata": {},
   "outputs": [
    {
     "data": {
      "text/plain": [
       "array([[0.30634624],\n",
       "       [0.30653405],\n",
       "       [0.30678907],\n",
       "       ...,\n",
       "       [0.30806375],\n",
       "       [0.3082025 ],\n",
       "       [0.30827647]], dtype=float32)"
      ]
     },
     "execution_count": 12,
     "metadata": {},
     "output_type": "execute_result"
    }
   ],
   "source": [
    "predicted_stock_price"
   ]
  },
  {
   "cell_type": "code",
   "execution_count": 31,
   "metadata": {},
   "outputs": [
    {
     "data": {
      "image/png": "[encoded data removed]",
      "text/plain": [
       "<Figure size 432x288 with 1 Axes>"
      ]
     },
     "metadata": {
      "needs_background": "light"
     },
     "output_type": "display_data"
    },
    {
     "name": "stdout",
     "output_type": "stream",
     "text": [
      "86.76664143207232\n"
     ]
    }
   ],
   "source": [
    "# Visualising the results\n",
    "actual_price = 0\n",
    "actual_price_list = []\n",
    "for i in y_test_norm:\n",
    "    actual_price = actual_price + i - 0.3\n",
    "    actual_price_list.append(actual_price)\n",
    "\n",
    "predicted_price = 0\n",
    "predicted_price_list = []\n",
    "for i in predicted_stock_price:\n",
    "    predicted_price = predicted_price + i - 0.3055\n",
    "    predicted_price_list.append(predicted_price)\n",
    "# Visualising the results\n",
    "plt.plot(actual_price_list, color = \"red\", label = \"Real Google Stock Price\")\n",
    "plt.plot(predicted_price_list, color = \"blue\", label = \"Predicted Google Stock Price\")\n",
    "plt.title('Google Stock Price Prediction')\n",
    "plt.xlabel('Time')\n",
    "plt.ylabel('TESLA Stock Price')\n",
    "plt.legend()\n",
    "plt.show()\n",
    "print(mean_squared_error(df_GOOG[split_index:-21].loc[:, ['adj_close']].values, predicted_stock_price, squared = False))"
   ]
  },
  {
   "cell_type": "code",
   "execution_count": 19,
   "metadata": {},
   "outputs": [
    {
     "name": "stdout",
     "output_type": "stream",
     "text": [
      "Epoch 1/25\n",
      "189/189 [==============================] - 5s 12ms/step - loss: 0.0976 - val_loss: 0.1538\n",
      "Epoch 2/25\n",
      "189/189 [==============================] - 2s 9ms/step - loss: 0.0964 - val_loss: 0.1539\n",
      "Epoch 3/25\n",
      "189/189 [==============================] - 2s 9ms/step - loss: 0.0962 - val_loss: 0.1542\n",
      "Epoch 4/25\n",
      "189/189 [==============================] - 2s 9ms/step - loss: 0.0961 - val_loss: 0.1561\n",
      "Epoch 5/25\n",
      "189/189 [==============================] - 2s 9ms/step - loss: 0.0958 - val_loss: 0.1545\n",
      "Epoch 6/25\n",
      "189/189 [==============================] - 2s 10ms/step - loss: 0.0958 - val_loss: 0.1547\n",
      "Epoch 7/25\n",
      "189/189 [==============================] - 2s 9ms/step - loss: 0.0959 - val_loss: 0.1547\n",
      "Epoch 8/25\n",
      "189/189 [==============================] - 2s 9ms/step - loss: 0.0958 - val_loss: 0.1542\n",
      "Epoch 9/25\n",
      "189/189 [==============================] - 2s 9ms/step - loss: 0.0958 - val_loss: 0.1544\n",
      "Epoch 10/25\n",
      "189/189 [==============================] - 2s 10ms/step - loss: 0.0957 - val_loss: 0.1552\n",
      "Epoch 11/25\n",
      "189/189 [==============================] - 2s 10ms/step - loss: 0.0958 - val_loss: 0.1543\n",
      "Epoch 12/25\n",
      "189/189 [==============================] - 2s 9ms/step - loss: 0.0957 - val_loss: 0.1546\n",
      "Epoch 13/25\n",
      "189/189 [==============================] - 2s 9ms/step - loss: 0.0958 - val_loss: 0.1546\n",
      "Epoch 14/25\n",
      "189/189 [==============================] - 2s 9ms/step - loss: 0.0957 - val_loss: 0.1543\n",
      "Epoch 15/25\n",
      "189/189 [==============================] - 2s 9ms/step - loss: 0.0955 - val_loss: 0.1540\n",
      "Epoch 16/25\n",
      "189/189 [==============================] - 2s 9ms/step - loss: 0.0957 - val_loss: 0.1552\n",
      "Epoch 17/25\n",
      "189/189 [==============================] - 2s 9ms/step - loss: 0.0957 - val_loss: 0.1540\n",
      "Epoch 18/25\n",
      "189/189 [==============================] - 2s 10ms/step - loss: 0.0958 - val_loss: 0.1546\n",
      "Epoch 19/25\n",
      "189/189 [==============================] - 2s 9ms/step - loss: 0.0956 - val_loss: 0.1549\n",
      "Epoch 20/25\n",
      "189/189 [==============================] - 2s 9ms/step - loss: 0.0957 - val_loss: 0.1544\n",
      "Epoch 21/25\n",
      "189/189 [==============================] - 2s 9ms/step - loss: 0.0957 - val_loss: 0.1549\n",
      "Epoch 22/25\n",
      "189/189 [==============================] - 2s 9ms/step - loss: 0.0957 - val_loss: 0.1545\n",
      "Epoch 23/25\n",
      "189/189 [==============================] - 2s 9ms/step - loss: 0.0956 - val_loss: 0.1540\n",
      "Epoch 24/25\n",
      "189/189 [==============================] - 2s 9ms/step - loss: 0.0957 - val_loss: 0.1543\n",
      "Epoch 25/25\n",
      "189/189 [==============================] - 2s 9ms/step - loss: 0.0957 - val_loss: 0.1551\n"
     ]
    },
    {
     "data": {
      "text/plain": [
       "<keras.callbacks.History at 0x20dd9fe1390>"
      ]
     },
     "execution_count": 19,
     "metadata": {},
     "output_type": "execute_result"
    }
   ],
   "source": [
    "#Setting of seed (to maintain constant result)\n",
    "tf.random.set_seed(20)\n",
    "np.random.seed(10)\n",
    "\n",
    "lstm_input = Input(shape=(21, 10), name='input_for_lstm')\n",
    "\n",
    "inputs = LSTM(21, name='first_layer', return_sequences = True)(lstm_input)\n",
    "\n",
    "inputs = Dropout(0.1, name='first_dropout_layer')(inputs)\n",
    "inputs = LSTM(32, name='lstm_1')(inputs)\n",
    "inputs = Dropout(0.05, name='lstm_dropout_1')(inputs) #Dropout layers to prevent overfitting\n",
    "inputs = Dense(32, name='first_dense_layer')(inputs)\n",
    "inputs = Dense(1, name='dense_layer')(inputs)\n",
    "output = Activation('linear', name='output')(inputs)\n",
    "\n",
    "model = Model(inputs=lstm_input, outputs=output)\n",
    "adam = optimizers.Adam(lr = 0.002)\n",
    "\n",
    "model.compile(optimizer=adam, loss='mse')\n",
    "model.fit(x=X_train, y=y_train, batch_size=15, epochs=25, shuffle=True, validation_split = 0.1)"
   ]
  },
  {
   "cell_type": "code",
   "execution_count": 12,
   "metadata": {},
   "outputs": [],
   "source": [
    "# history_points = 21\n",
    "# y_normaliser = preprocessing.MinMaxScaler()\n",
    "# next_day_close_values = np.array([train_data['adj_close'][i + history_points].copy() for i in range(len(train_data) - history_points)])\n",
    "# next_day_close_values = np.expand_dims(next_day_close_values, -1)"
   ]
  },
  {
   "cell_type": "code",
   "execution_count": 14,
   "metadata": {},
   "outputs": [
    {
     "data": {
      "text/plain": [
       "array([ 4.53251123,  4.48220015,  4.46825218, ..., 46.61100006,\n",
       "       46.85400009, 47.15000153])"
      ]
     },
     "execution_count": 14,
     "metadata": {},
     "output_type": "execute_result"
    }
   ],
   "source": [
    "# next_day_close_values = np.array([train_data['adj_close'][i + history_points].copy() for i in range(len(train_data) - history_points)])\n",
    "# next_day_close_values"
   ]
  },
  {
   "cell_type": "code",
   "execution_count": 15,
   "metadata": {},
   "outputs": [
    {
     "data": {
      "text/plain": [
       "array([[ 4.53251123],\n",
       "       [ 4.48220015],\n",
       "       [ 4.46825218],\n",
       "       ...,\n",
       "       [46.61100006],\n",
       "       [46.85400009],\n",
       "       [47.15000153]])"
      ]
     },
     "execution_count": 15,
     "metadata": {},
     "output_type": "execute_result"
    }
   ],
   "source": [
    "# next_day_close_values = np.expand_dims(next_day_close_values, -1)\n",
    "# next_day_close_values"
   ]
  },
  {
   "cell_type": "code",
   "execution_count": 17,
   "metadata": {},
   "outputs": [
    {
     "data": {
      "text/html": [
       "<style>#sk-container-id-2 {color: black;background-color: white;}#sk-container-id-2 pre{padding: 0;}#sk-container-id-2 div.sk-toggleable {background-color: white;}#sk-container-id-2 label.sk-toggleable__label {cursor: pointer;display: block;width: 100%;margin-bottom: 0;padding: 0.3em;box-sizing: border-box;text-align: center;}#sk-container-id-2 label.sk-toggleable__label-arrow:before {content: \"▸\";float: left;margin-right: 0.25em;color: #696969;}#sk-container-id-2 label.sk-toggleable__label-arrow:hover:before {color: black;}#sk-container-id-2 div.sk-estimator:hover label.sk-toggleable__label-arrow:before {color: black;}#sk-container-id-2 div.sk-toggleable__content {max-height: 0;max-width: 0;overflow: hidden;text-align: left;background-color: #f0f8ff;}#sk-container-id-2 div.sk-toggleable__content pre {margin: 0.2em;color: black;border-radius: 0.25em;background-color: #f0f8ff;}#sk-container-id-2 input.sk-toggleable__control:checked~div.sk-toggleable__content {max-height: 200px;max-width: 100%;overflow: auto;}#sk-container-id-2 input.sk-toggleable__control:checked~label.sk-toggleable__label-arrow:before {content: \"▾\";}#sk-container-id-2 div.sk-estimator input.sk-toggleable__control:checked~label.sk-toggleable__label {background-color: #d4ebff;}#sk-container-id-2 div.sk-label input.sk-toggleable__control:checked~label.sk-toggleable__label {background-color: #d4ebff;}#sk-container-id-2 input.sk-hidden--visually {border: 0;clip: rect(1px 1px 1px 1px);clip: rect(1px, 1px, 1px, 1px);height: 1px;margin: -1px;overflow: hidden;padding: 0;position: absolute;width: 1px;}#sk-container-id-2 div.sk-estimator {font-family: monospace;background-color: #f0f8ff;border: 1px dotted black;border-radius: 0.25em;box-sizing: border-box;margin-bottom: 0.5em;}#sk-container-id-2 div.sk-estimator:hover {background-color: #d4ebff;}#sk-container-id-2 div.sk-parallel-item::after {content: \"\";width: 100%;border-bottom: 1px solid gray;flex-grow: 1;}#sk-container-id-2 div.sk-label:hover label.sk-toggleable__label {background-color: #d4ebff;}#sk-container-id-2 div.sk-serial::before {content: \"\";position: absolute;border-left: 1px solid gray;box-sizing: border-box;top: 0;bottom: 0;left: 50%;z-index: 0;}#sk-container-id-2 div.sk-serial {display: flex;flex-direction: column;align-items: center;background-color: white;padding-right: 0.2em;padding-left: 0.2em;position: relative;}#sk-container-id-2 div.sk-item {position: relative;z-index: 1;}#sk-container-id-2 div.sk-parallel {display: flex;align-items: stretch;justify-content: center;background-color: white;position: relative;}#sk-container-id-2 div.sk-item::before, #sk-container-id-2 div.sk-parallel-item::before {content: \"\";position: absolute;border-left: 1px solid gray;box-sizing: border-box;top: 0;bottom: 0;left: 50%;z-index: -1;}#sk-container-id-2 div.sk-parallel-item {display: flex;flex-direction: column;z-index: 1;position: relative;background-color: white;}#sk-container-id-2 div.sk-parallel-item:first-child::after {align-self: flex-end;width: 50%;}#sk-container-id-2 div.sk-parallel-item:last-child::after {align-self: flex-start;width: 50%;}#sk-container-id-2 div.sk-parallel-item:only-child::after {width: 0;}#sk-container-id-2 div.sk-dashed-wrapped {border: 1px dashed gray;margin: 0 0.4em 0.5em 0.4em;box-sizing: border-box;padding-bottom: 0.4em;background-color: white;}#sk-container-id-2 div.sk-label label {font-family: monospace;font-weight: bold;display: inline-block;line-height: 1.2em;}#sk-container-id-2 div.sk-label-container {text-align: center;}#sk-container-id-2 div.sk-container {/* jupyter's `normalize.less` sets `[hidden] { display: none; }` but bootstrap.min.css set `[hidden] { display: none !important; }` so we also need the `!important` here to be able to override the default hidden behavior on the sphinx rendered scikit-learn.org. See: https://github.com/scikit-learn/scikit-learn/issues/21755 */display: inline-block !important;position: relative;}#sk-container-id-2 div.sk-text-repr-fallback {display: none;}</style><div id=\"sk-container-id-2\" class=\"sk-top-container\"><div class=\"sk-text-repr-fallback\"><pre>MinMaxScaler()</pre><b>In a Jupyter environment, please rerun this cell to show the HTML representation or trust the notebook. <br />On GitHub, the HTML representation is unable to render, please try loading this page with nbviewer.org.</b></div><div class=\"sk-container\" hidden><div class=\"sk-item\"><div class=\"sk-estimator sk-toggleable\"><input class=\"sk-toggleable__control sk-hidden--visually\" id=\"sk-estimator-id-2\" type=\"checkbox\" checked><label for=\"sk-estimator-id-2\" class=\"sk-toggleable__label sk-toggleable__label-arrow\">MinMaxScaler</label><div class=\"sk-toggleable__content\"><pre>MinMaxScaler()</pre></div></div></div></div></div>"
      ],
      "text/plain": [
       "MinMaxScaler()"
      ]
     },
     "execution_count": 17,
     "metadata": {},
     "output_type": "execute_result"
    }
   ],
   "source": [
    "# y_normaliser.fit(next_day_close_values)"
   ]
  },
  {
   "cell_type": "code",
   "execution_count": 34,
   "metadata": {},
   "outputs": [
    {
     "name": "stdout",
     "output_type": "stream",
     "text": [
      "42/42 [==============================] - 0s 3ms/step\n"
     ]
    }
   ],
   "source": [
    "y_pred = model.predict(X_test)"
   ]
  },
  {
   "cell_type": "code",
   "execution_count": 37,
   "metadata": {},
   "outputs": [
    {
     "data": {
      "text/plain": [
       "array([4.3127213, 4.312695 , 4.3127003, ..., 4.3173494, 4.3172226,\n",
       "       4.31719  ], dtype=float32)"
      ]
     },
     "execution_count": 37,
     "metadata": {},
     "output_type": "execute_result"
    }
   ],
   "source": [
    "y_pred"
   ]
  },
  {
   "cell_type": "code",
   "execution_count": 38,
   "metadata": {},
   "outputs": [
    {
     "name": "stdout",
     "output_type": "stream",
     "text": [
      "42/42 [==============================] - 0s 3ms/step\n",
      "4.778132352859906\n"
     ]
    },
    {
     "data": {
      "image/png": "[encoded data removed]",
      "text/plain": [
       "<Figure size 864x576 with 1 Axes>"
      ]
     },
     "metadata": {
      "needs_background": "light"
     },
     "output_type": "display_data"
    }
   ],
   "source": [
    "#prediction of model\n",
    "y_pred = model.predict(X_test)\n",
    "y_pred = y_normaliser.inverse_transform(y_pred)\n",
    "\n",
    "y_pred = y_pred.flatten()\n",
    "\n",
    "#actual represents the test set's actual stock prices\n",
    "actual = np.array([df_GOOG[split_index:]['adj_close'][i + 21].copy() for i in range(len(df_GOOG[split_index:]) - 21)])\n",
    "\n",
    "temp_actual = actual[:-2]\n",
    "\n",
    "#Adding each actual price at time t with the predicted difference to get a predicted price at time t + 1\n",
    "new = np.add(temp_actual, y_pred)\n",
    "\n",
    "plt.gcf().set_size_inches(12, 8, forward=True)\n",
    "plt.title('Plot of real price and predicted price against number of days for test set')\n",
    "plt.xlabel('Number of days')\n",
    "plt.ylabel('Adjusted Close Price($)')\n",
    "\n",
    "plt.plot(actual[1:], label='Actual Price')\n",
    "plt.plot(new - 4.31, label='Predicted Price')\n",
    "\n",
    "print(mean_squared_error(actual[2:], new, squared = False))\n",
    "\n",
    "#plotting of model  \n",
    "plt.legend(['Actual Price', 'Predicted Price'])\n",
    "\n",
    "\n",
    "plt.show()"
   ]
  }
 ],
 "metadata": {
  "kernelspec": {
   "display_name": "Python 3.10.0 64-bit",
   "language": "python",
   "name": "python3"
  },
  "language_info": {
   "codemirror_mode": {
    "name": "ipython",
    "version": 3
   },
   "file_extension": ".py",
   "mimetype": "text/x-python",
   "name": "python",
   "nbconvert_exporter": "python",
   "pygments_lexer": "ipython3",
   "version": "3.10.0"
  },
  "orig_nbformat": 4,
  "vscode": {
   "interpreter": {
    "hash": "301da6f0e7e53b7955fa2d3d6c4b0305db26df81f353cd714eada29af4753e7a"
   }
  }
 },
 "nbformat": 4,
 "nbformat_minor": 2
}
